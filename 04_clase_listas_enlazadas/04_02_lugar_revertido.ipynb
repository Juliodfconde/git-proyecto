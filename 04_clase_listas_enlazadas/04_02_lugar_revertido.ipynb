{
  "nbformat": 4,
  "nbformat_minor": 0,
  "metadata": {
    "colab": {
      "name": "04_02_lugar_revertido.ipynb",
      "provenance": [],
      "collapsed_sections": [],
      "authorship_tag": "ABX9TyNpaEnHRqMh5BlZyD56Mwq6",
      "include_colab_link": true
    },
    "kernelspec": {
      "name": "python3",
      "display_name": "Python 3"
    },
    "language_info": {
      "name": "python"
    }
  },
  "cells": [
    {
      "cell_type": "markdown",
      "metadata": {
        "id": "view-in-github",
        "colab_type": "text"
      },
      "source": [
        "<a href=\"https://colab.research.google.com/github/IEXE-Tec/analisis_de_algoritmos/blob/main/04_clase_listas_enlazadas/04_02_lugar_revertido.ipynb\" target=\"_parent\"><img src=\"https://colab.research.google.com/assets/colab-badge.svg\" alt=\"Open In Colab\"/></a>"
      ]
    },
    {
      "cell_type": "markdown",
      "metadata": {
        "id": "MmUv7x-XxhAE"
      },
      "source": [
        "# Lugar Revertido"
      ]
    },
    {
      "cell_type": "markdown",
      "metadata": {
        "id": "6kNyU_3PyQAG"
      },
      "source": [
        "Dado un nodo cabeza, y un entero `i`, devolver el objeto que se encuentra a `i` lugares de la cola. Piensa en el slicing `[-1]` de los arrays de python. La lista sera simple."
      ]
    },
    {
      "cell_type": "markdown",
      "metadata": {
        "id": "dKoNz4WO0cA4"
      },
      "source": [
        "**Condiciones**:\n",
        "+ Si `i` es mayor que el numero de nodos `n`, regresar la cabeza.\n",
        "+ La funcion recibira la cabeza de la lista `Nodo` y un entero `i`.\n",
        "+ Usa la clase `Nodo` que te proporcionamos.\n",
        "+ La funcion no recibira el valor de `0` o negativo.\n",
        "+ La lista no tendra ciclos, y estara bien definida."
      ]
    },
    {
      "cell_type": "markdown",
      "metadata": {
        "id": "pdDJNnxC0wRd"
      },
      "source": [
        "**Ejemplos**:\n",
        "Sea la lista a -> b -> c  \n",
        "Con valores 1, 2 ,3\n",
        "\n",
        "+ Si la funcion recibe `(a,2)`, deberia de regresar `2` que es el valor del nodo `b`  \n",
        "+ Si la funcion recibe `(a,1)`, deberia de regresar `3` que es el valor del nodo `c`\n",
        "+ Si la funcion recibe `(a,4)`, deberia de regresar `1` que es el valor del nodo `a`. Nota que es el caso donde el entero es mas grande que el numero de elementos.\n"
      ]
    },
    {
      "cell_type": "markdown",
      "metadata": {
        "id": "jU7N7h411wna"
      },
      "source": [
        "## Solucion"
      ]
    },
    {
      "cell_type": "code",
      "metadata": {
        "id": "u2YlGlAm12tP"
      },
      "source": [
        "class Nodo:\n",
        "\n",
        "    def __init__(self, value):\n",
        "        self.valor = value\n",
        "        self.signodo  = None"
      ],
      "execution_count": null,
      "outputs": []
    },
    {
      "cell_type": "code",
      "metadata": {
        "id": "KCS1NviL1y35"
      },
      "source": [
        "def lugar_revertido(nodo, indice):\n",
        "  valor_a_regresar = None\n",
        "\n",
        "  return valor_a_regresar"
      ],
      "execution_count": null,
      "outputs": []
    },
    {
      "cell_type": "markdown",
      "metadata": {
        "id": "O9ro429T3EDN"
      },
      "source": [
        "## Pruebas"
      ]
    },
    {
      "cell_type": "code",
      "metadata": {
        "id": "a-lTEKeC4Mfm"
      },
      "source": [
        "import unittest\n",
        "\n",
        "class PruebaRevertida(unittest.TestCase):\n",
        "\n",
        "  def prueba(self, fun_solucion):\n",
        "    a = Nodo(1)\n",
        "    b = Nodo(2)\n",
        "    c = Nodo(3)\n",
        "    d = Nodo(4)\n",
        "    e = Nodo(5)\n",
        "\n",
        "    a.signodo = b\n",
        "    b.signodo = c\n",
        "    c.signodo = d\n",
        "    d.signodo = e\n",
        "\n",
        "    dict_pruebas = {\n",
        "        1:(a, 6, 1),\n",
        "        2: (a, 1, 5),\n",
        "    }\n",
        "    sol = 'Error, tu funcion no regresa nada'\n",
        "\n",
        "    for p in dict_pruebas.values():\n",
        "      try:\n",
        "        sol = fun_solucion(nodo=p[0], indice=p[1])\n",
        "        self.assertEqual(sol, p[2])\n",
        "      except AssertionError as e:\n",
        "        print(f'Fallo! nodo={p[0]}, indice={p[1]},  output={sol}, esperada={p[2]}')\n",
        "\n"
      ],
      "execution_count": null,
      "outputs": []
    },
    {
      "cell_type": "code",
      "metadata": {
        "colab": {
          "base_uri": "https://localhost:8080/"
        },
        "id": "8T8lq7iX4z7y",
        "outputId": "788dbd42-5f3c-4447-80a0-b4abef89b143"
      },
      "source": [
        "t = PruebaRevertida()\n",
        "t.prueba(lugar_revertido)"
      ],
      "execution_count": null,
      "outputs": [
        {
          "output_type": "stream",
          "text": [
            "Fallo! nodo=<__main__.Nodo object at 0x7f87e6443310>, indice=6,  output=None, esperada=1\n",
            "Fallo! nodo=<__main__.Nodo object at 0x7f87e6443310>, indice=1,  output=None, esperada=5\n"
          ],
          "name": "stdout"
        }
      ]
    }
  ]
}