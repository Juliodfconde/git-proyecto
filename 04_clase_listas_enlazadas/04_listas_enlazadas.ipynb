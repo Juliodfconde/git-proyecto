{
  "nbformat": 4,
  "nbformat_minor": 0,
  "metadata": {
    "colab": {
      "name": "04_listas_enlazadas.ipynb",
      "provenance": [],
      "collapsed_sections": [],
      "authorship_tag": "ABX9TyOS+QOdUwkwV1lCTx0Sweuc",
      "include_colab_link": true
    },
    "kernelspec": {
      "name": "python3",
      "display_name": "Python 3"
    },
    "language_info": {
      "name": "python"
    }
  },
  "cells": [
    {
      "cell_type": "markdown",
      "metadata": {
        "id": "view-in-github",
        "colab_type": "text"
      },
      "source": [
        "<a href=\"https://colab.research.google.com/github/IEXE-Tec/analisis_de_algoritmos/blob/main/04_listas_enlazadas.ipynb\" target=\"_parent\"><img src=\"https://colab.research.google.com/assets/colab-badge.svg\" alt=\"Open In Colab\"/></a>"
      ]
    },
    {
      "cell_type": "markdown",
      "metadata": {
        "id": "TbsvVT60-KCf"
      },
      "source": [
        "# Listas Enlazadas"
      ]
    },
    {
      "cell_type": "markdown",
      "metadata": {
        "id": "NONJ40WrASgl"
      },
      "source": [
        "**Operaciones**"
      ]
    },
    {
      "cell_type": "markdown",
      "metadata": {
        "id": "n1XeYo5DAUJn"
      },
      "source": [
        "Sea `n` el tamaño de la lista enlazada, e `i` un elemento generico en la posicion i.\n",
        "+ **Indexado o acceso**: Acceder al elemento `i` de una lista enlazada de tamaño `n`,\n",
        "+ **Insercion al final**: Agregar un nodo/elemento al final de la lista.\n",
        "+ **Eliminacion al final**: Eliminar un nodo/elemento al final de la lista.\n",
        "+ **Insercion en medio**: Agregar un nodo/elemento en la posicion `i`.\n",
        "+ **Eliminacion en medio**: Eliminar un nodo/elemento en la posicion `i`.\n"
      ]
    },
    {
      "cell_type": "markdown",
      "metadata": {
        "id": "bc0Wd2-h_Ivt"
      },
      "source": [
        "[Fuente de codigo](https://www.geeksforgeeks.org/linked-list-set-1-introduction/)  \n",
        "\n",
        "[Wiki Listas Enlazadas](https://es.wikipedia.org/wiki/Lista_enlazada)"
      ]
    },
    {
      "cell_type": "markdown",
      "metadata": {
        "id": "sWHJzQ1b__1z"
      },
      "source": [
        "**Complejidad de Operaciones** (No amortizado)"
      ]
    },
    {
      "cell_type": "markdown",
      "metadata": {
        "id": "LbabEafVALRS"
      },
      "source": [
        "![image.png](data:image/png;base64,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)"
      ]
    },
    {
      "cell_type": "markdown",
      "metadata": {
        "id": "xpe9NUKG_GdQ"
      },
      "source": [
        "## Nodos"
      ]
    },
    {
      "cell_type": "code",
      "metadata": {
        "id": "oV0fVKrs_JhL"
      },
      "source": [
        "# Clase Nodo\n",
        "class Nodo:\n",
        "    # Inicializacion\n",
        "    def __init__(self, data):\n",
        "      # Asignar datos\n",
        "      self.data = data  \n",
        "      # Asignar apuntadores\n",
        "      self.next = None  # Por default es nulo"
      ],
      "execution_count": null,
      "outputs": []
    },
    {
      "cell_type": "markdown",
      "metadata": {
        "id": "aQVa3cXkDgQs"
      },
      "source": [
        "Podemos crear nodos separados que despues foramran parte de nuestra lista entrelazada."
      ]
    },
    {
      "cell_type": "code",
      "metadata": {
        "id": "jJECi_frDjiz"
      },
      "source": [
        "# Guardar Valores\n",
        "a = Nodo(1)\n",
        "b = Nodo(2)\n",
        "c = Nodo(3)\n",
        "\n",
        "# Crear apuntadores\n",
        "a.nextnode = b\n",
        "b.nextnode = c"
      ],
      "execution_count": null,
      "outputs": []
    },
    {
      "cell_type": "markdown",
      "metadata": {
        "id": "RlP1106TENgf"
      },
      "source": [
        "## Lista Enlazada Sencilla"
      ]
    },
    {
      "cell_type": "code",
      "metadata": {
        "id": "kc_i-GEIEOje"
      },
      "source": [
        "# La clase Linked List contiene objetos Nodo\n",
        "class LinkedList:\n",
        "    # Funcion para crear la cabeza\n",
        "    def __init__(self):\n",
        "        self.head = None"
      ],
      "execution_count": null,
      "outputs": []
    },
    {
      "cell_type": "code",
      "metadata": {
        "id": "bR1ar9PLHgE6"
      },
      "source": [
        "# Creacion de la Lista Enlazada\n",
        "if __name__=='__main__':\n",
        "  \n",
        "    # Comienza con una lista vacia\n",
        "    llist = LinkedList()\n",
        "  \n",
        "    llist.head = Nodo(1)\n",
        "    second = Nodo(2)\n",
        "    third = Nodo(3)\n",
        "  \n",
        "    '''\n",
        "    Tres nodos han sido creados.\n",
        "    Por ahora no tenemos apuntadores entre nodos,\n",
        "    solo los elementos. Por default, el apuntador \n",
        "    al siguiente nodo es nulo (None). \n",
        "  \n",
        "    llist.head        second              third\n",
        "         |                |                  |\n",
        "         |                |                  |\n",
        "    +----+------+     +----+------+     +----+------+\n",
        "    | 1  | None |     | 2  | None |     |  3 | None |\n",
        "    +----+------+     +----+------+     +----+------+\n",
        "    '''\n",
        "    # Apuntador de la cabeza al segundo nodo\n",
        "    llist.head.next = second; \n",
        "  \n",
        "    '''\n",
        "    Ahora nuestra cabeza aputa al nodo 2\n",
        "  \n",
        "    llist.head        second              third\n",
        "         |                |                  |\n",
        "         |                |                  |\n",
        "    +----+------+     +----+------+     +----+------+\n",
        "    | 1  |  o-------->| 2  | null |     |  3 | null |\n",
        "    +----+------+     +----+------+     +----+------+ \n",
        "    '''\n",
        "    # El segundo nodo apunta a la cabeza del tercero\n",
        "    second.next = third; \n",
        "    '''\n",
        "\n",
        "    llist.head        second              third\n",
        "         |                |                  |\n",
        "         |                |                  |\n",
        "    +----+------+     +----+------+     +----+------+\n",
        "    | 1  |  o-------->| 2  |  o-------->|  3 | null |\n",
        "    +----+------+     +----+------+     +----+------+ \n",
        "    '''"
      ],
      "execution_count": null,
      "outputs": []
    },
    {
      "cell_type": "markdown",
      "metadata": {
        "id": "sIPgYjSgVeoz"
      },
      "source": [
        "## Traversing/Recorrido Listas Enalzadas"
      ]
    },
    {
      "cell_type": "markdown",
      "metadata": {
        "id": "pojosewqVi2w"
      },
      "source": [
        "Ahora modificaremos la clase LinkedList agragando una funcion que recorre todos los nodos, e imprime sus elementos.  \n",
        "En escencia puede ser modificada para que tambien regrese la ubicacion de la cola,"
      ]
    },
    {
      "cell_type": "code",
      "metadata": {
        "id": "cL5T8u9BVssQ"
      },
      "source": [
        "# La clase Linked List contiene objetos Nodo\n",
        "class LinkedList:\n",
        "    # Funcion para crear la cabeza\n",
        "    def __init__(self):\n",
        "        self.head = None\n",
        "\n",
        "    # Esta funcion imprime los elementos de la lista\n",
        "    # comenzando por la cabeza.\n",
        "    def printList(self):\n",
        "        temp = self.head\n",
        "        while (temp):\n",
        "            print (temp.data)\n",
        "            temp = temp.next"
      ],
      "execution_count": null,
      "outputs": []
    },
    {
      "cell_type": "code",
      "metadata": {
        "colab": {
          "base_uri": "https://localhost:8080/"
        },
        "id": "MyxhuLOxV_SS",
        "outputId": "0b0265e0-e406-466d-b2b7-52b14d1a49f6"
      },
      "source": [
        "# Ejecucion\n",
        "if __name__=='__main__':\n",
        "  \n",
        "    llist = LinkedList()\n",
        "  \n",
        "    llist.head = Nodo(1)\n",
        "    second = Nodo(2)\n",
        "    third = Nodo(3)\n",
        "  \n",
        "    llist.head.next = second; \n",
        "    second.next = third; \n",
        "  \n",
        "    llist.printList()"
      ],
      "execution_count": null,
      "outputs": [
        {
          "output_type": "stream",
          "text": [
            "1\n",
            "2\n",
            "3\n"
          ],
          "name": "stdout"
        }
      ]
    },
    {
      "cell_type": "markdown",
      "metadata": {
        "id": "2FG3thYNa-4e"
      },
      "source": [
        "# Tarea\n",
        "Revisa la complejidad de las funciones que implementamos."
      ]
    },
    {
      "cell_type": "markdown",
      "metadata": {
        "id": "NIno5OaQixEL"
      },
      "source": [
        "# Listas Doblemente Enlazadas"
      ]
    },
    {
      "cell_type": "markdown",
      "metadata": {
        "id": "qooaMBtNnOPu"
      },
      "source": [
        "En este caso la implementacion de las listas doblemente ligadas **no tiene trailer ni cabecera**. Puedes observar como la implementacion, usos, y complejidad asintotica no se ve afectada."
      ]
    },
    {
      "cell_type": "markdown",
      "metadata": {
        "id": "thOqCjtskB5k"
      },
      "source": [
        "[Fuente del Codigo](https://www.geeksforgeeks.org/doubly-linked-list/)"
      ]
    },
    {
      "cell_type": "code",
      "metadata": {
        "id": "AjaK9fXUkP0y"
      },
      "source": [
        "class Node:\n",
        " \n",
        "    # Constructor para nuevo nodo\n",
        "    # Ahora tiene el apuntador prev\n",
        "    def __init__(self, data):\n",
        "        self.data = data\n",
        "        self.next = None\n",
        "        self.prev = None\n",
        " \n",
        "# Clase de doble lista ligada\n",
        "class DoublyLinkedList:\n",
        " \n",
        "    # Constructor \n",
        "    def __init__(self):\n",
        "        self.head = None\n",
        " \n",
        "    def push(self, new_data):\n",
        "        '''\n",
        "        Agrega un nodo a la cabeza que contiene la varaible\n",
        "        new_data\n",
        "        '''\n",
        " \n",
        "        # 1. Crea el nodo\n",
        "        # 2. Guarda su valor\n",
        "        new_node = Node(new_data)\n",
        " \n",
        "        # El nuevo nodo se convierte en cabeza\n",
        "        new_node.next = self.head\n",
        " \n",
        "        # Ahora el segundo nodo (antes cabeza)\n",
        "        # refenrencia al nuevo nodo (ahora cabeza)\n",
        "        if self.head is not None:\n",
        "            self.head.prev = new_node\n",
        " \n",
        "        # El nuevo nodo (cabeza) refercia somo siguiente\n",
        "        # (next) al segundo nodo\n",
        "        self.head = new_node\n",
        "\n",
        "    def insertAfter(self, prev_node, new_data):\n",
        "        ''' \n",
        "        Dado un nodo previo, insera un nuevo nodo despues\n",
        "        dek nodo previo.\n",
        "        '''\n",
        " \n",
        "        # 1. Revisa la integridad/validez (validancia ja!)\n",
        "        # del nodo previo \n",
        "        if prev_node is None:\n",
        "            print(\"el nodo previo no puede ser NULL\")\n",
        "            return None\n",
        " \n",
        "        # 2. Crea el nuevo nodo\n",
        "        # 3. Guarda los datos\n",
        "        new_node = Node(new_data)\n",
        " \n",
        "        # 4. El nuevo nodo apunta al siguiente (next) nodo\n",
        "        new_node.next = prev_node.next\n",
        " \n",
        "        # 5. El nodo previo apunta al nuevo nodo como siguiente.\n",
        "        prev_node.next = new_node\n",
        " \n",
        "        # 6. El nuevo nodo apunta como previo, al nodo previo.\n",
        "        new_node.prev = prev_node\n",
        " \n",
        "        # 7. El nodo siguiente tiene como previo al nuevo nodo\n",
        "        if new_node.next:\n",
        "            new_node.next.prev = new_node\n",
        " \n",
        "    def append(self, new_data):\n",
        "        ''' \n",
        "        Dada una referencia a la cabeza, agrega un nodo a la cola\n",
        "        '''\n",
        " \n",
        "        # 1. Crea nodo\n",
        "        # 2. Guarda el Nodo\n",
        "        new_node = Node(new_data)\n",
        " \n",
        "        # 3. El nuevo nodo sera la cola, por lo que su apuntador\n",
        "        # al nodo siguiente es nulo\n",
        " \n",
        "        # 4. Si la lista esta vacia, has el nuevo nodo cabeza\n",
        "        if self.head is None:\n",
        "            self.head = new_node\n",
        "            return None\n",
        " \n",
        "        # 5. Recorre la lista de la cabeza a la cola\n",
        "        # No hay referencia a la cola\n",
        "        last = self.head\n",
        "        while last.next:\n",
        "            last = last.next\n",
        "\n",
        "        # Actualiza los apuntadores/referencias\n",
        "        # de los nodos.\n",
        "        last.next = new_node\n",
        "        new_node.prev = last\n",
        " \n",
        "        return None\n",
        " \n",
        "\n",
        "    def printList(self, node):\n",
        "        ''' \n",
        "        Imprime los datos de la lista, comenzando\n",
        "        por el nodo que pasemos como argumento\n",
        "        '''\n",
        " \n",
        "        print(\"\\n Orden normal\")\n",
        "        while node:\n",
        "            print(node.data)\n",
        "            last = node\n",
        "            node = node.next\n",
        " \n"
      ],
      "execution_count": 12,
      "outputs": []
    },
    {
      "cell_type": "code",
      "metadata": {
        "colab": {
          "base_uri": "https://localhost:8080/"
        },
        "id": "TkK18RSxk2V4",
        "outputId": "95c1a468-35e1-423e-fa5f-db5e120609c0"
      },
      "source": [
        " \n",
        " # Creemos un objeto de la lista doble\n",
        "llist = DoublyLinkedList()\n",
        " \n",
        "# Guardemos 6. \n",
        "# 6->None\n",
        "llist.append(6)\n",
        " \n",
        "# Insertemos 7 a la cabeza\n",
        "# 7->6->None\n",
        "llist.push(7)\n",
        " \n",
        "# Inserta 1 a la cabeza\n",
        "# 1->7->6->None\n",
        "llist.push(1)\n",
        " \n",
        "# Inserta 4 en la cola\n",
        "# 1->7->6->4->None\n",
        "llist.append(4)\n",
        " \n",
        "# Inserta 8 despues de 7\n",
        "# 1->7->8->6->4->None\n",
        "llist.insertAfter(llist.head.next, 8)\n",
        " \n",
        "print(\"DLL Creada\")\n",
        "llist.printList(llist.head)\n",
        " \n",
        "# Codigo basado en Nikhil Kumar Singh(nickzuck_007)"
      ],
      "execution_count": 14,
      "outputs": [
        {
          "output_type": "stream",
          "text": [
            "DLL Creada\n",
            "\n",
            " Orden normal\n",
            "1\n",
            "7\n",
            "8\n",
            "6\n",
            "4\n"
          ],
          "name": "stdout"
        }
      ]
    },
    {
      "cell_type": "markdown",
      "metadata": {
        "id": "NgygW7LTsZmD"
      },
      "source": [
        "# Tarea"
      ]
    },
    {
      "cell_type": "markdown",
      "metadata": {
        "id": "KAkDgtVZsaet"
      },
      "source": [
        "Estudia la complejidad de las funciones.  \n",
        "+ Podemos hacer mas eficiente el metodo `append`, y de que manera, o no?"
      ]
    }
  ]
}