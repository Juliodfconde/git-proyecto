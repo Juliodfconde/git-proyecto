{
  "nbformat": 4,
  "nbformat_minor": 0,
  "metadata": {
    "colab": {
      "name": "04_01_listas_cicladas.ipynb",
      "provenance": [],
      "collapsed_sections": [],
      "authorship_tag": "ABX9TyPRH2Q1djKAICpFQhjqbfL9",
      "include_colab_link": true
    },
    "kernelspec": {
      "name": "python3",
      "display_name": "Python 3"
    },
    "language_info": {
      "name": "python"
    }
  },
  "cells": [
    {
      "cell_type": "markdown",
      "metadata": {
        "id": "view-in-github",
        "colab_type": "text"
      },
      "source": [
        "<a href=\"https://colab.research.google.com/github/IEXE-Tec/analisis_de_algoritmos/blob/main/04_clase_listas_enlazadas/04_01_listas_cicladas.ipynb\" target=\"_parent\"><img src=\"https://colab.research.google.com/assets/colab-badge.svg\" alt=\"Open In Colab\"/></a>"
      ]
    },
    {
      "cell_type": "markdown",
      "metadata": {
        "id": "b0o8fMRspm82"
      },
      "source": [
        "# Listas Ligadas Simples Cicladas"
      ]
    },
    {
      "cell_type": "markdown",
      "metadata": {
        "id": "Kh4b8aW8ptgt"
      },
      "source": [
        "Dada una lista simple, revisar si contiene un cicllo.   \n",
        "**ciclo**: Cuando el apuntador de un nodo apunta a un algun nodo previo de la lista. "
      ]
    },
    {
      "cell_type": "markdown",
      "metadata": {
        "id": "iV-8J4XiyWn_"
      },
      "source": [
        "**Condiciones**:\n",
        "+ La funcion recibira el nodo cabeza, apartir de ahi determinara si existe un ciclo.\n",
        "+ Usa la clase nodo que proporcionamos."
      ]
    },
    {
      "cell_type": "markdown",
      "metadata": {
        "id": "7M-rZWiNypt0"
      },
      "source": [
        "**Ejemplo**:\n",
        "+ a -> b -> c -> a regresa `True` por que existe un ciclo (a->...c->a)\n",
        "+ a -> regresa `False` por que no hay ciclos."
      ]
    },
    {
      "cell_type": "markdown",
      "metadata": {
        "id": "oZ8xsdxhqG-Z"
      },
      "source": [
        "## Problema"
      ]
    },
    {
      "cell_type": "code",
      "metadata": {
        "id": "9M5tXGf8qJO8"
      },
      "source": [
        "class Nodo(object):\n",
        "\n",
        "  def __init__(self,valor):\n",
        "    self.valor = valor\n",
        "    self.signodo = None"
      ],
      "execution_count": null,
      "outputs": []
    },
    {
      "cell_type": "markdown",
      "metadata": {
        "id": "OfQcdWB7qU5I"
      },
      "source": [
        "## Solucion"
      ]
    },
    {
      "cell_type": "code",
      "metadata": {
        "id": "1EMosLJ0qWPj"
      },
      "source": [
        "def revisar_ciclo(nodo):\n",
        "  ciclo = False\n",
        "\n",
        "  # Asegurate de regresar una varaible booleana\n",
        "  return ciclo\n"
      ],
      "execution_count": null,
      "outputs": []
    },
    {
      "cell_type": "markdown",
      "metadata": {
        "id": "4UxohgiErHDZ"
      },
      "source": [
        "## Evaluacion"
      ]
    },
    {
      "cell_type": "code",
      "metadata": {
        "id": "_V4wpbERrKpP"
      },
      "source": [
        "# Ciclo en la lista\n",
        "a = Nodo(1)\n",
        "b = Nodo(2)\n",
        "c = Nodo(3)\n",
        "a.signodo = b\n",
        "b.signodo = c\n",
        "c.signodo = a\n",
        "\n",
        "\n",
        "# Lista sin ciclo\n",
        "aa = Nodo(1)\n",
        "bb = Nodo(2)\n",
        "cc = Nodo(3)\n",
        "aa.signodo = bb\n",
        "bb.signodo = cc\n"
      ],
      "execution_count": null,
      "outputs": []
    },
    {
      "cell_type": "code",
      "metadata": {
        "id": "5uFR2mK_rlys"
      },
      "source": [
        "import unittest\n",
        "\n",
        "class PruebaCiclos(unittest.TestCase):\n",
        "\n",
        "  def prueba(self, fun_solucion):\n",
        "    # Ciclo en la lista\n",
        "    a = Nodo(1)\n",
        "    b = Nodo(2)\n",
        "    c = Nodo(3)\n",
        "    a.signodo = b\n",
        "    b.signodo = c\n",
        "    c.signodo = a\n",
        "\n",
        "\n",
        "    # Lista sin ciclo\n",
        "    aa = Nodo(1)\n",
        "    bb = Nodo(2)\n",
        "    cc = Nodo(3)\n",
        "    aa.signodo = bb\n",
        "    bb.signodo = cc\n",
        "\n",
        "    dict_pruebas = {\n",
        "        1:(a, True),\n",
        "        2:(aa, False)\n",
        "    }\n",
        "\n",
        "    for p in dict_pruebas.values():\n",
        "      try:\n",
        "        sol = fun_solucion(nodo=p[0])\n",
        "        self.assertEqual(sol, p[1])\n",
        "      except AssertionError as e:\n",
        "        print(f'Fallo! nodo={p[0]},  output={sol}, esperada={p[1]}')\n",
        "    \n"
      ],
      "execution_count": null,
      "outputs": []
    },
    {
      "cell_type": "code",
      "metadata": {
        "colab": {
          "base_uri": "https://localhost:8080/"
        },
        "id": "1cX2rf9JxKF0",
        "outputId": "83699a5a-bc83-455b-c190-8a62199dd2e4"
      },
      "source": [
        "\n",
        "\n",
        "t = PruebaCiclos()\n",
        "t.prueba(revisar_ciclo)\n",
        "\n"
      ],
      "execution_count": null,
      "outputs": [
        {
          "output_type": "stream",
          "text": [
            "Fallo! nodo=<__main__.Nodo object at 0x7fa7d2804110>,  output=False, esperada=True\n"
          ],
          "name": "stdout"
        }
      ]
    }
  ]
}