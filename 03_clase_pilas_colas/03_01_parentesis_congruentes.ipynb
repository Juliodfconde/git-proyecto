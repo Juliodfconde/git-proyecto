{
  "nbformat": 4,
  "nbformat_minor": 0,
  "metadata": {
    "colab": {
      "name": "03_01_parentesis_congruentes.ipynb",
      "provenance": [],
      "collapsed_sections": [],
      "authorship_tag": "ABX9TyNpNPS8XsNO7RzsBfHTJKAR",
      "include_colab_link": true
    },
    "kernelspec": {
      "name": "python3",
      "display_name": "Python 3"
    },
    "language_info": {
      "name": "python"
    }
  },
  "cells": [
    {
      "cell_type": "markdown",
      "metadata": {
        "id": "view-in-github",
        "colab_type": "text"
      },
      "source": [
        "<a href=\"https://colab.research.google.com/github/IEXE-Tec/analisis_de_algoritmos/blob/main/03_01_parentesis_congruentes.ipynb\" target=\"_parent\"><img src=\"https://colab.research.google.com/assets/colab-badge.svg\" alt=\"Open In Colab\"/></a>"
      ]
    },
    {
      "cell_type": "markdown",
      "metadata": {
        "id": "F0VdtSuK1eeB"
      },
      "source": [
        "# Parentesis Congruentes"
      ]
    },
    {
      "cell_type": "markdown",
      "metadata": {
        "id": "o_FkSLlg16aA"
      },
      "source": [
        "Dado un string de parentesis `{,[,(,),},}`. Revisar si son conguentres ocoherentes. Es decir si todos abren y cierran en el orden correcto."
      ]
    },
    {
      "cell_type": "markdown",
      "metadata": {
        "id": "h-jNS9Ap2PTg"
      },
      "source": [
        "Ejemplos Balanceados:\n",
        "+ `{}`, `[]`, `()`, ` `\n",
        "+ `[()]`\n",
        "+ `({})[]{}()`\n",
        "+ `{{[][][][]()([])}}`  \n",
        "Ejemplos no Balanceados:\n",
        "+ `{)`, `{`, `[[}}`\n",
        "+ `()[]{`\n",
        "+`(((()))]`\n",
        "+ `(()]`\n",
        "+ `[(])`"
      ]
    },
    {
      "cell_type": "markdown",
      "metadata": {
        "id": "CrbNM0qV21Ab"
      },
      "source": [
        "**Condiciones**:\n",
        "+ El string puede tener letras, numero y espacios. **Hint**: Puedes usar el metodo `.sub` para limpiar tu string.\n",
        "+ Un string vacio esta balanceado.\n"
      ]
    },
    {
      "cell_type": "markdown",
      "metadata": {
        "id": "JKCJyzDd3Qyz"
      },
      "source": [
        "## Respuesta"
      ]
    },
    {
      "cell_type": "markdown",
      "metadata": {
        "id": "cupFMsgG7j1O"
      },
      "source": [
        "**Hint**: La expresion regular que detecta todo lo que no es parentesis es `'[^\\[\\]\\(\\)\\{\\}]'`. Revisa el metodo `sub` de la paqueteria `re` [Documentacion](https://docs.python.org/3/library/re.html)"
      ]
    },
    {
      "cell_type": "code",
      "metadata": {
        "id": "yY_-f7rs3TD0"
      },
      "source": [
        "from re import sub\n",
        "def parentesis_coherentes(cadena=''):\n",
        "\n",
        "  balanceado = True # Pues por default la cadena vacia esta balanceada\n",
        "  \n",
        "  return balanceado\n"
      ],
      "execution_count": 29,
      "outputs": []
    },
    {
      "cell_type": "markdown",
      "metadata": {
        "id": "yHV8WTJe3n4l"
      },
      "source": [
        "## Evaluacion"
      ]
    },
    {
      "cell_type": "code",
      "metadata": {
        "id": "FCeM3vKX757x"
      },
      "source": [
        "\n",
        "\n",
        "import unittest\n",
        "\n",
        "class PruebaCoherentes(unittest.TestCase):\n",
        "\n",
        "  def prueba(self, fun_solucion):\n",
        "    dict_pruebas = {\n",
        "        1:('',True),\n",
        "        2: ('{}', True),\n",
        "        3: ('[]', True),\n",
        "        4: ('(      )', True),\n",
        "        5: ('asd()', True),\n",
        "        6: ('asd()asd', True),\n",
        "        7: ('asd{ asd }asd', True),\n",
        "        8: ('a(a[aa{d}g245]g)2345$', True),\n",
        "        10: ('{[[[[((())) ]]]] {} {} (())[][]}', True),-\n",
        "        9: ('(]', False),\n",
        "        10: ('asdasd(asd]}',False),\n",
        "        11: ('[[[[]]])',False),\n",
        "        12:('{sd}{}{}[][]((ff',False),\n",
        "        13: ('{', False),\n",
        "        14: ('}{', False)\n",
        "    }\n",
        "    sol = 'Error, tu funcion no regresa nada'\n",
        "\n",
        "    for p in dict_pruebas.values():\n",
        "      try:\n",
        "        sol = fun_solucion(cadena=p[0])\n",
        "        self.assertEqual(sol, p[1])\n",
        "      except AssertionError as e:\n",
        "        print(f'Fallo! cadena={p[0]},  output={sol}, esperada={p[1]}')\n",
        "\n"
      ],
      "execution_count": 30,
      "outputs": []
    },
    {
      "cell_type": "code",
      "metadata": {
        "colab": {
          "base_uri": "https://localhost:8080/"
        },
        "id": "cgni-0S0-gsB",
        "outputId": "75b1a636-10fc-4dad-82f4-bb1b29db07de"
      },
      "source": [
        "t = PruebaCoherentes()\n",
        "t.prueba(parentesis_coherentes) "
      ],
      "execution_count": 31,
      "outputs": [
        {
          "output_type": "stream",
          "text": [
            "Fallo! cadena=asdasd(asd]},  output=True, esperada=False\n",
            "Fallo! cadena=(],  output=True, esperada=False\n",
            "Fallo! cadena=[[[[]]]),  output=True, esperada=False\n",
            "Fallo! cadena={}{}{}[][]((,  output=True, esperada=False\n",
            "Fallo! cadena={,  output=True, esperada=False\n"
          ],
          "name": "stdout"
        }
      ]
    }
  ]
}