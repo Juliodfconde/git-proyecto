{
  "nbformat": 4,
  "nbformat_minor": 0,
  "metadata": {
    "colab": {
      "name": "03_pilas_colas.ipynb",
      "provenance": [],
      "collapsed_sections": [],
      "authorship_tag": "ABX9TyPpT73tS2pYvrK1neF20T5f",
      "include_colab_link": true
    },
    "kernelspec": {
      "name": "python3",
      "display_name": "Python 3"
    },
    "language_info": {
      "name": "python"
    }
  },
  "cells": [
    {
      "cell_type": "markdown",
      "metadata": {
        "id": "view-in-github",
        "colab_type": "text"
      },
      "source": [
        "<a href=\"https://colab.research.google.com/github/IEXE-Tec/analisis_de_algoritmos/blob/main/03_pilas_colas.ipynb\" target=\"_parent\"><img src=\"https://colab.research.google.com/assets/colab-badge.svg\" alt=\"Open In Colab\"/></a>"
      ]
    },
    {
      "cell_type": "markdown",
      "metadata": {
        "id": "f6ixu99j4m2N"
      },
      "source": [
        "# Stacks, Queues y Dequeues "
      ]
    },
    {
      "cell_type": "markdown",
      "metadata": {
        "id": "zRSL8ukMpxie"
      },
      "source": [
        "# Stacks"
      ]
    },
    {
      "cell_type": "markdown",
      "metadata": {
        "id": "gbdPiu2Hpyxb"
      },
      "source": [
        "En esta seccion implementaremos un stack o pila en python.  \n",
        "[Referencia](https://www.geeksforgeeks.org/stack-in-python/)"
      ]
    },
    {
      "cell_type": "markdown",
      "metadata": {
        "id": "Ilh0ayUip27j"
      },
      "source": [
        "Recuerda que las pilas siguen una politica LIFO \"last in, last out\". Los objetos son agregados hasta arriba de la pila o top."
      ]
    },
    {
      "cell_type": "markdown",
      "metadata": {
        "id": "4R5juMTSq48O"
      },
      "source": [
        "Operaciones del stack:\n",
        "+ **empty()**:= revisa si el stack esta vacio. Regresa `True` si esta vacio.\n",
        "+ **size()**:= regresa el numero de objetos en el stack.\n",
        "+ **top()**:= muestra el objeto en el top del stack sin quitarlo o regresarlo. Una especie de `print`.\n",
        "+ **push(obj)**:= agrega un objeto hasta arriba del stack.\n",
        "+ **pop()**:= regresa el objeto hasta arriba del stack. Por lo tanto lo elimina del mismo."
      ]
    },
    {
      "cell_type": "markdown",
      "metadata": {
        "id": "zml3JDVTsLaB"
      },
      "source": [
        "## Implementacion"
      ]
    },
    {
      "cell_type": "code",
      "metadata": {
        "id": "dqNKvCU2sMvt"
      },
      "source": [
        "class Pila:\n",
        "  def __init__(self):\n",
        "    # Inicializa con una lista vacia\n",
        "    self.objetos = []\n",
        "\n",
        "  def empty(self):\n",
        "    # Revisa si objetos es igual a la lista vacia\n",
        "    return self.objetos == []\n",
        "\n",
        "  def size(self):\n",
        "    # Revisa el tamaño de objetos\n",
        "    return len(self.objetos)\n",
        "\n",
        "  def top(self):\n",
        "    # Imprime el objeto en el top\n",
        "    if len(self.objetos)>0:\n",
        "      print(self.objetos[len(self.objetos)-1])\n",
        "    else:\n",
        "      # Puedes cambiar que hacer cuando la lista esta vacia\n",
        "      pass\n",
        "\n",
        "  def push(self, x):\n",
        "    self.objetos.append(x)\n",
        "\n",
        "  def pop(self):\n",
        "    return self.objetos.pop()"
      ],
      "execution_count": 13,
      "outputs": []
    },
    {
      "cell_type": "code",
      "metadata": {
        "id": "NS9yVkWPu_PV"
      },
      "source": [
        "st = Pila()"
      ],
      "execution_count": 15,
      "outputs": []
    },
    {
      "cell_type": "code",
      "metadata": {
        "id": "zmKfyYELvFdq"
      },
      "source": [
        "st.push(1)"
      ],
      "execution_count": 16,
      "outputs": []
    },
    {
      "cell_type": "code",
      "metadata": {
        "colab": {
          "base_uri": "https://localhost:8080/"
        },
        "id": "8oebM_xXvGv2",
        "outputId": "6730fb0c-d923-44ee-e7ba-8f961e064847"
      },
      "source": [
        "st.size()"
      ],
      "execution_count": 17,
      "outputs": [
        {
          "output_type": "execute_result",
          "data": {
            "text/plain": [
              "1"
            ]
          },
          "metadata": {
            "tags": []
          },
          "execution_count": 17
        }
      ]
    },
    {
      "cell_type": "code",
      "metadata": {
        "colab": {
          "base_uri": "https://localhost:8080/"
        },
        "id": "niJm3liyvJiD",
        "outputId": "60da4c3f-ee38-41dd-a30f-766e01a6e4bc"
      },
      "source": [
        "st.pop()"
      ],
      "execution_count": 18,
      "outputs": [
        {
          "output_type": "execute_result",
          "data": {
            "text/plain": [
              "1"
            ]
          },
          "metadata": {
            "tags": []
          },
          "execution_count": 18
        }
      ]
    },
    {
      "cell_type": "code",
      "metadata": {
        "id": "2XFmkVUHvKcI"
      },
      "source": [
        "st.top()"
      ],
      "execution_count": 19,
      "outputs": []
    },
    {
      "cell_type": "markdown",
      "metadata": {
        "id": "hqnQeFOut9vo"
      },
      "source": [
        "## Colas"
      ]
    },
    {
      "cell_type": "markdown",
      "metadata": {
        "id": "27jBrDoCuA_w"
      },
      "source": [
        "Colas son como el stack pero siguen una politica FIFO (first in, first out).\n",
        "[Referencia](https://www.geeksforgeeks.org/queue-in-python/)"
      ]
    },
    {
      "cell_type": "markdown",
      "metadata": {
        "id": "Y8rvgncfuGRc"
      },
      "source": [
        "Operaciones de las Colas:\n",
        "+ "
      ]
    },
    {
      "cell_type": "markdown",
      "metadata": {
        "id": "rUnoRnLVuijU"
      },
      "source": [
        "+ **empty()**:= revisa si la fila esta vacio. Regresa `True` si esta vacio.\n",
        "+ **size()**:= regresa el numero de objetos en la fila.\n",
        "+ **frente()**:= muestra el objeto en en el frente de la fila sin quitarlo o regresarlo. Una especie de `print`.\n",
        "+ **queue(obj)**:= agrega un objeto ala fila.\n",
        "+ **dequeu()**:= regresa el objeto al principio. Por lo tanto lo elimina del mismo."
      ]
    },
    {
      "cell_type": "code",
      "metadata": {
        "id": "s0hu-hB4uyHu"
      },
      "source": [
        "class Fila:\n",
        "  def __init__(self):\n",
        "    # Inicializa con una lista vacia\n",
        "    self.objetos = []\n",
        "\n",
        "  def empty(self):\n",
        "    # Revisa si objetos es igual a la lista vacia\n",
        "    return self.objetos == []\n",
        "\n",
        "  def size(self):\n",
        "    # Revisa el tamaño de objetos\n",
        "    return len(self.objetos)\n",
        "\n",
        "  def frente(self):\n",
        "    # Imprime el objeto en el rear\n",
        "    print(self.objetos[0])\n",
        "\n",
        "  def push(self, x):\n",
        "    self.objetos.insert(0,x)\n",
        "\n",
        "  def dequeu(self):\n",
        "    return self.objetos.pop()"
      ],
      "execution_count": 21,
      "outputs": []
    },
    {
      "cell_type": "markdown",
      "metadata": {
        "id": "TGe1YMU2zPXo"
      },
      "source": [
        "#  Tarea"
      ]
    },
    {
      "cell_type": "markdown",
      "metadata": {
        "id": "7b0fp8QCzRlv"
      },
      "source": [
        "1. Evalua la complejidad de cada uno de los metodos o funciones de las estructuras de datos. \n",
        "2. Implementa una doblemente termianda (dequeue)."
      ]
    }
  ]
}