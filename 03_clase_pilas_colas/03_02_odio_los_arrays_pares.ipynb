{
  "nbformat": 4,
  "nbformat_minor": 0,
  "metadata": {
    "colab": {
      "name": "03_02_odio_los_arrays_pares.ipynb",
      "provenance": [],
      "collapsed_sections": [],
      "authorship_tag": "ABX9TyNV7R3DIqYYPolq2rc0K/2f",
      "include_colab_link": true
    },
    "kernelspec": {
      "name": "python3",
      "display_name": "Python 3"
    },
    "language_info": {
      "name": "python"
    }
  },
  "cells": [
    {
      "cell_type": "markdown",
      "metadata": {
        "id": "view-in-github",
        "colab_type": "text"
      },
      "source": [
        "<a href=\"https://colab.research.google.com/github/IEXE-Tec/analisis_de_algoritmos/blob/main/03_02_odio_los_arrays_pares.ipynb\" target=\"_parent\"><img src=\"https://colab.research.google.com/assets/colab-badge.svg\" alt=\"Open In Colab\"/></a>"
      ]
    },
    {
      "cell_type": "markdown",
      "metadata": {
        "id": "R6CPcZbIi8Fs"
      },
      "source": [
        "# Odio los Arrays pares"
      ]
    },
    {
      "cell_type": "markdown",
      "metadata": {
        "id": "lfI8egJsmE5D"
      },
      "source": [
        "En este problema recibiras una lista con caracteres binarios {0,1}*. L a idea es eliminar todas las sub-cadenas o sub-strings de tamaño par que contengan solo 0's o solo 1's.  Incluso cuando estas sub-cadenas son creadas al eliminiar otras subcadenas. Solo puedes eliminar cadenas por pares. (Ve los ejemplos por si tienes dudas).\n",
        "Basicamente debes regresar cadenas sin sub-cadenas pares.  \n",
        "Si la cadena queda vacia regresa \"Helado es el vacio\"."
      ]
    },
    {
      "cell_type": "markdown",
      "metadata": {
        "id": "vZRYWlJinS_F"
      },
      "source": [
        "**Ejemplos**:\n",
        "+ `101001` regresa `10`\n",
        "+ `1` regresa `1`\n",
        "+ ` ` regresa `Helado es el vacio`\n",
        "+ `0011` regresa `Helado es el vacio`\n",
        "+ `101` regresa `101`\n",
        "+ `1001` regresa `Helado es el vacio`\n",
        "+ `10001` regresa `101`\n",
        "+ `100001` regresa `Helado es el vacio`\n",
        "+ `1000001` regresa `101`"
      ]
    },
    {
      "cell_type": "markdown",
      "metadata": {
        "id": "i-1pdTs_mv0Q"
      },
      "source": [
        "**Condiciones**:\n",
        "+ Las cadenas pueden estar vacias, o no contener cadenas pares de substrings con ceros y unos.\n",
        "+ Si la cadena esta vacia regresa \"Helado es el vacio\" (sin las comillas)\n",
        "+ Solo puedes usar listas `[]`, y las operaciones basicas definidas en nuestras estructuras de stack, y colas.  \n",
        "+ Solo recibiras cadenas con `0`s y `1`s o vacio `''`.\n",
        "\n",
        "**Hint**: Recuerda que puedes concatenar cadenas de texto de un array usando `''.join(stack)`\n"
      ]
    },
    {
      "cell_type": "markdown",
      "metadata": {
        "id": "3o0nktmTnR8H"
      },
      "source": [
        "## Tu sulucion"
      ]
    },
    {
      "cell_type": "code",
      "metadata": {
        "id": "rsZRtJnBnud2"
      },
      "source": [
        "def respuesta_pares(arr=''):\n",
        "  stack = []\n",
        "\n",
        "  # Condicion final\n",
        "  if len(stack) > 0:\n",
        "    return ''.join(stack)\n",
        "  else:\n",
        "    return 'Helado es el vacio'"
      ],
      "execution_count": 20,
      "outputs": []
    },
    {
      "cell_type": "code",
      "metadata": {
        "colab": {
          "base_uri": "https://localhost:8080/",
          "height": 41
        },
        "id": "j5yFAmhw0smF",
        "outputId": "ff91e4f4-94f6-49f1-9038-1a63c24e6948"
      },
      "source": [
        "respuesta_pares(arr='')"
      ],
      "execution_count": 16,
      "outputs": [
        {
          "output_type": "execute_result",
          "data": {
            "application/vnd.google.colaboratory.intrinsic+json": {
              "type": "string"
            },
            "text/plain": [
              "'Helado es el vacio'"
            ]
          },
          "metadata": {
            "tags": []
          },
          "execution_count": 16
        }
      ]
    },
    {
      "cell_type": "markdown",
      "metadata": {
        "id": "YURh5vOd1-qx"
      },
      "source": [
        "## Pruebas"
      ]
    },
    {
      "cell_type": "code",
      "metadata": {
        "id": "0bV5vPfE2A1-"
      },
      "source": [
        "import unittest\n",
        "\n",
        "\n",
        "class PruebaOdioPares(unittest.TestCase):\n",
        "\n",
        "  def prueba(self, fun_solucion):\n",
        "    dict_pruebas = {\n",
        "        1:('101001','10'),\n",
        "        2: ('1', '1'),\n",
        "        3: ('0', '0'),\n",
        "        4: ('', 'Helado es el vacio'),\n",
        "        5: ('11', 'Helado es el vacio'),\n",
        "        6: ('0011', 'Helado es el vacio'),\n",
        "        7: ('1001', 'Helado es el vacio'),\n",
        "        8: ('101', '101'),\n",
        "        10: ('1001', 'Helado es el vacio'),\n",
        "        9: ('10001', '101'),\n",
        "        10: ('100001','Helado es el vacio'),\n",
        "        11: ('1000001','101'),\n",
        "    }\n",
        "    sol = 'Error, tu funcion no regresa nada'\n",
        "\n",
        "    for p in dict_pruebas.values():\n",
        "      try:\n",
        "        sol = fun_solucion(arr=p[0])\n",
        "        self.assertEqual(sol, p[1])\n",
        "      except AssertionError as e:\n",
        "        print(f'Fallo! cadena={p[0]},  output={sol}, esperada={p[1]}')"
      ],
      "execution_count": 24,
      "outputs": []
    },
    {
      "cell_type": "code",
      "metadata": {
        "colab": {
          "base_uri": "https://localhost:8080/"
        },
        "id": "R30stDb14ODm",
        "outputId": "89d9c253-3e25-42b4-abcc-0ac8a1a0d0e4"
      },
      "source": [
        "t = PruebaOdioPares()\n",
        "t.prueba(respuesta_pares)"
      ],
      "execution_count": 25,
      "outputs": [
        {
          "output_type": "stream",
          "text": [
            "Fallo! cadena=101001,  output=Helado es el vacio, esperada=10\n",
            "Fallo! cadena=1,  output=Helado es el vacio, esperada=1\n",
            "Fallo! cadena=0,  output=Helado es el vacio, esperada=0\n",
            "Fallo! cadena=101,  output=Helado es el vacio, esperada=101\n",
            "Fallo! cadena=10001,  output=Helado es el vacio, esperada=101\n",
            "Fallo! cadena=1000001,  output=Helado es el vacio, esperada=101\n"
          ],
          "name": "stdout"
        }
      ]
    }
  ]
}