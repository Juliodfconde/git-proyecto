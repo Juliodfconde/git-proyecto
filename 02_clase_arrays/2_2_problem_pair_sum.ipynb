{
  "nbformat": 4,
  "nbformat_minor": 0,
  "metadata": {
    "colab": {
      "name": "2_2_problem_pair_sum.ipynb",
      "provenance": [],
      "collapsed_sections": [],
      "authorship_tag": "ABX9TyODkdM4OXogdhVobisy4dVl",
      "include_colab_link": true
    },
    "kernelspec": {
      "name": "python3",
      "display_name": "Python 3"
    },
    "language_info": {
      "name": "python"
    }
  },
  "cells": [
    {
      "cell_type": "markdown",
      "metadata": {
        "id": "view-in-github",
        "colab_type": "text"
      },
      "source": [
        "<a href=\"https://colab.research.google.com/github/IEXE-Tec/analisis_de_algoritmos/blob/main/02_clase_arrays/2_2_problem_pair_sum.ipynb\" target=\"_parent\"><img src=\"https://colab.research.google.com/assets/colab-badge.svg\" alt=\"Open In Colab\"/></a>"
      ]
    },
    {
      "cell_type": "markdown",
      "metadata": {
        "id": "2EUYyFSGqrBL"
      },
      "source": [
        "# Array Pair Sum"
      ]
    },
    {
      "cell_type": "markdown",
      "metadata": {
        "id": "_TRQqicerFFF"
      },
      "source": [
        "Dado un array de numeros enteros, regresa todos los **pares** que sumados den como resultado el entero **k**."
      ]
    },
    {
      "cell_type": "markdown",
      "metadata": {
        "id": "4EV6FOwXsHyh"
      },
      "source": [
        "**Condiciones**:\n",
        "+ La funcion recibe una lista con enteros.\n",
        "+ **k** es un entero.\n",
        "+ Los numeros pueden ser positivos o negativos.\n",
        "+ Solo revisa pares\n",
        "+ Si se repite algun par, solo regresalo una vez\n",
        "+ En vez de regresar los pares, regresa el numero (cardinalidad de pares)."
      ]
    },
    {
      "cell_type": "markdown",
      "metadata": {
        "id": "KL1sOVM8sg4V"
      },
      "source": [
        "**Ejemplos**:  \n",
        "`suma_pares(arr=[-1,1,-2,2,0], k=0)`  \n",
        " + Encontraria `[(-1,1), (-2,2)]`\n",
        " + Regresaria `2`, pues hay dos pares\n",
        "\n",
        "\n",
        "---\n",
        "\n",
        "`suma_pares(arr=[-1,1,-2,2,0], k=1)`  \n",
        " + Encontraria `[(-1,2), (0,1)]`\n",
        " + Regresaria `2`, pues hay dos pares\n",
        "\n",
        "\n",
        "\n",
        "---\n",
        "`suma_pares(arr=[-2,-2,0,0], k=-2)`  \n",
        " + Encontraria `[(-2,0)]`\n",
        " + Regresaria `1`, pues hay solo un par unico. A pesar de que -2 y 0 aparecen dos veces.\n",
        "\n",
        "\n",
        "\n",
        "---\n",
        "\n",
        "`suma_pares(arr=[-1,1,-2,2,0], k=10)`  \n",
        " + Encontraria `[]`\n",
        " + Regresaria `0`, pues no hay pares que sumen k.\n",
        "\n",
        "\n",
        "\n",
        "---\n",
        "\n",
        "`suma_pares(arr=[], k=10)`  \n",
        " + Encontraria `[]`\n",
        " + Regresaria `0`, pues no hay pares que sumen k.\n",
        "\n"
      ]
    },
    {
      "cell_type": "markdown",
      "metadata": {
        "id": "DN3vqLsFtn3u"
      },
      "source": [
        "**Hint**: Puedes usar la funcion `set` de python."
      ]
    },
    {
      "cell_type": "markdown",
      "metadata": {
        "id": "Hk0K0Nz1u-Mk"
      },
      "source": [
        "## Tu solucion"
      ]
    },
    {
      "cell_type": "code",
      "metadata": {
        "id": "0bDzBkt6u_e7"
      },
      "source": [
        "## TODO: Solucion\n",
        "\n",
        "def suma_pares(arr=[], k=0):\n",
        "  num_pares = 2\n",
        "\n",
        "  return num_pares"
      ],
      "execution_count": null,
      "outputs": []
    },
    {
      "cell_type": "markdown",
      "metadata": {
        "id": "RLNVAcULvWIM"
      },
      "source": [
        "## Pruebas"
      ]
    },
    {
      "cell_type": "code",
      "metadata": {
        "id": "OrXZRLLIvXHq"
      },
      "source": [
        "import unittest\n",
        "\n",
        "class PuebaSumaPares(unittest.TestCase):\n",
        "\n",
        "  def prueba(self, fun_solucion):\n",
        "    sumas_prueba = {\n",
        "        1:([8, 7, 2, 5, 3, 1], 10,2),\n",
        "        2: ([-1,1,-2,2,0], 0, 2),\n",
        "        3: ([], 0, 0),\n",
        "        4: ([-2, -2, 0, 0], 1, 0)\n",
        "    }\n",
        "    sol = 'Error'\n",
        "    for p in sumas_prueba.values():\n",
        "      try:\n",
        "        sol = fun_solucion(arr=p[0], k=p[1])\n",
        "        self.assertEqual(sol, p[2])\n",
        "      except AssertionError as e:\n",
        "        print(f'Fallo! arr={p[0]},  k={p[1]},  output={sol}, esperada={p[2]}')"
      ],
      "execution_count": null,
      "outputs": []
    },
    {
      "cell_type": "code",
      "metadata": {
        "colab": {
          "base_uri": "https://localhost:8080/"
        },
        "id": "XuypZa9zvivB",
        "outputId": "398d3c92-9a9d-43ca-b5c1-3906dc61b60d"
      },
      "source": [
        "t = PuebaSumaPares()\n",
        "t.prueba(suma_pares)"
      ],
      "execution_count": null,
      "outputs": [
        {
          "output_type": "stream",
          "text": [
            "Fallo! arr=[],  k=0,  output=2, esperada=0\n",
            "Fallo! arr=[-2, -2, 0, 0],  k=1,  output=2, esperada=1\n"
          ],
          "name": "stdout"
        }
      ]
    }
  ]
}