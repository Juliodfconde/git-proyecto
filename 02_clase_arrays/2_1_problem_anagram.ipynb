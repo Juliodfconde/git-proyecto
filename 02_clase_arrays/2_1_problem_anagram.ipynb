{
  "nbformat": 4,
  "nbformat_minor": 0,
  "metadata": {
    "colab": {
      "name": "2_1_problem_anagram.ipynb",
      "provenance": [],
      "collapsed_sections": [],
      "authorship_tag": "ABX9TyNBoqrQzSHRyVPNcunX9D59",
      "include_colab_link": true
    },
    "kernelspec": {
      "name": "python3",
      "display_name": "Python 3"
    },
    "language_info": {
      "name": "python"
    }
  },
  "cells": [
    {
      "cell_type": "markdown",
      "metadata": {
        "id": "view-in-github",
        "colab_type": "text"
      },
      "source": [
        "<a href=\"https://colab.research.google.com/github/IEXE-Tec/analisis_de_algoritmos/blob/main/2_1_problem_anagram.ipynb\" target=\"_parent\"><img src=\"https://colab.research.google.com/assets/colab-badge.svg\" alt=\"Open In Colab\"/></a>"
      ]
    },
    {
      "cell_type": "markdown",
      "metadata": {
        "id": "y7HNVu0reWnD"
      },
      "source": [
        "# Deteccion de Angramas"
      ]
    },
    {
      "cell_type": "markdown",
      "metadata": {
        "id": "NF2UoOnWenIo"
      },
      "source": [
        "Dadas dos `strings` detectar si son anagramas.  \n",
        "Un [**anagrama**](https://es.wikipedia.org/wiki/Anagrama) es una palabra o frase que resulta de la transposición de letras de otra palabra o frase. Dicho de otra forma, una palabra es anagrama de otra si las dos tienen las mismas letras, con el mismo número de apariciones, pero en un orden diferente.  "
      ]
    },
    {
      "cell_type": "markdown",
      "metadata": {
        "id": "5qMVgx3Le0JP"
      },
      "source": [
        "Condiciones:\n",
        "+ Ignorar espacios, tabs, guiones, y cualquier caracter que no sea del alafabeto, etc...\n",
        "+ Ignorar mayusculas o minisculas (a & A son la misma letra)\n",
        "+ Caracteres en ingles utf-8 (sin acentos)\n",
        "+ **No puedes importar librerias**\n",
        "+ **No puedes usar funciones de ordenamiento nativas de python**"
      ]
    },
    {
      "cell_type": "markdown",
      "metadata": {
        "id": "iwcHKUcsfEm8"
      },
      "source": [
        "Ejemplos de anagramas:\n",
        "+ `para`, `rapa`, `par a`\n",
        "+ [ejemplos](https://www.ejemplos.co/50-ejemplos-de-anagramas/)"
      ]
    },
    {
      "cell_type": "markdown",
      "metadata": {
        "id": "njvfDHP6f8-V"
      },
      "source": [
        "## Tu solucion"
      ]
    },
    {
      "cell_type": "code",
      "metadata": {
        "id": "GHq_fdFRgFDP"
      },
      "source": [
        "''' \n",
        "Utiliza este espacio para poner tu solucion.\n",
        "No puedes usar las funciones de sort\n",
        "'''\n",
        "\n",
        "def anagram(ana1='', ana2=''):\n",
        "\n",
        "  return False "
      ],
      "execution_count": 43,
      "outputs": []
    },
    {
      "cell_type": "markdown",
      "metadata": {
        "id": "4PSvKxO7gnS7"
      },
      "source": [
        "## Pruebas"
      ]
    },
    {
      "cell_type": "code",
      "metadata": {
        "id": "w5S552VohIa1"
      },
      "source": [
        "import unittest \n",
        "class PruebaAnagramas(unittest.TestCase):\n",
        "  \n",
        "  def prueba(self, fun_solucion):\n",
        "    # Anagrams\n",
        "    anagrams_d = {\n",
        "    1:('Mother-in-law' , 'Hitler woman'),\n",
        "    2: ('Debit card' , 'Bad credit'),\n",
        "    3: ('Dormitory' , 'Dirty room'),\n",
        "    4: ('The earthquakes' , 'The queer shakes'),\n",
        "    5: ('Astronomer' , 'Moon starrer'),\n",
        "    6: ('Punishments' , 'Nine thumps'),\n",
        "    7: ('School master' , 'The classroom')\n",
        "    }\n",
        "\n",
        "    # No anagramas\n",
        "    no_anagrams_d = {\n",
        "    1:('Motherr-in-law' , 'Hitler woman'),\n",
        "    2: ('Debiit card' , 'Bad credit'),\n",
        "    3: ('Dorrmitory' , 'Dirty room'),\n",
        "    4: ('The earthquakes' , 'The queer shakes'),\n",
        "    5: ('Astrodnomer' , 'Moon starrer'),\n",
        "    6: ('Punishfhments' , 'Nine thumps'),\n",
        "    7: ('Schoool master' , 'The classroom')\n",
        "    }\n",
        "    \n",
        "    for ana in anagrams_d.values():\n",
        "      try:\n",
        "        self.assertTrue(fun_solucion(ana[0], ana[1]))\n",
        "      except AssertionError as e:\n",
        "        print('Fallo, es un anagrama (True): ',ana)\n",
        "    for ana in no_anagrams_d.values():\n",
        "      try:\n",
        "        self.assertFalse(fun_solucion(ana[0], ana[1]))\n",
        "      except AssertionError as e:\n",
        "        print('Fallo, no es un anagrama (False): ',ana)"
      ],
      "execution_count": 45,
      "outputs": []
    },
    {
      "cell_type": "code",
      "metadata": {
        "colab": {
          "base_uri": "https://localhost:8080/"
        },
        "id": "9XNCQyaKhg_L",
        "outputId": "28e9f11a-8017-4575-a886-ab6362e9c83e"
      },
      "source": [
        "t = PruebaAnagramas()\n",
        "t.prueba(anagram)"
      ],
      "execution_count": 46,
      "outputs": [
        {
          "output_type": "stream",
          "text": [
            "Fallo, es un anagrama (True):  ('Mother-in-law', 'Hitler woman')\n",
            "Fallo, es un anagrama (True):  ('Debit card', 'Bad credit')\n",
            "Fallo, es un anagrama (True):  ('Dormitory', 'Dirty room')\n",
            "Fallo, es un anagrama (True):  ('The earthquakes', 'The queer shakes')\n",
            "Fallo, es un anagrama (True):  ('Astronomer', 'Moon starrer')\n",
            "Fallo, es un anagrama (True):  ('Punishments', 'Nine thumps')\n",
            "Fallo, es un anagrama (True):  ('School master', 'The classroom')\n"
          ],
          "name": "stdout"
        }
      ]
    }
  ]
}