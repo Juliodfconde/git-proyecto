{
  "nbformat": 4,
  "nbformat_minor": 0,
  "metadata": {
    "colab": {
      "name": "02_arrays.ipynb",
      "provenance": [],
      "collapsed_sections": [],
      "authorship_tag": "ABX9TyNBA75r/Bzmq2CSPEDGn3fi",
      "include_colab_link": true
    },
    "kernelspec": {
      "name": "python3",
      "display_name": "Python 3"
    },
    "language_info": {
      "name": "python"
    }
  },
  "cells": [
    {
      "cell_type": "markdown",
      "metadata": {
        "id": "view-in-github",
        "colab_type": "text"
      },
      "source": [
        "<a href=\"https://colab.research.google.com/github/IEXE-Tec/analisis_de_algoritmos/blob/main/02_arrays.ipynb\" target=\"_parent\"><img src=\"https://colab.research.google.com/assets/colab-badge.svg\" alt=\"Open In Colab\"/></a>"
      ]
    },
    {
      "cell_type": "markdown",
      "metadata": {
        "id": "Jj1TaeamCXcx"
      },
      "source": [
        "# Arrays"
      ]
    },
    {
      "cell_type": "code",
      "metadata": {
        "id": "kGzu4EJBCbgt"
      },
      "source": [
        "import numpy as np\n",
        "import sys\n"
      ],
      "execution_count": 25,
      "outputs": []
    },
    {
      "cell_type": "markdown",
      "metadata": {
        "id": "w7ixe0CNBjBh"
      },
      "source": [
        "# Arrays en memoria"
      ]
    },
    {
      "cell_type": "markdown",
      "metadata": {
        "id": "8v7rI0_iCVDB"
      },
      "source": [
        "Veamos como el interpretador de python maneja los arrays dinamicos en memoria."
      ]
    },
    {
      "cell_type": "code",
      "metadata": {
        "colab": {
          "base_uri": "https://localhost:8080/"
        },
        "id": "XiXCe7gcFsmP",
        "outputId": "4f525796-62b3-4669-efd3-1449f022cee4"
      },
      "source": [
        "# Elementos en el array\n",
        "n = 50\n",
        "# Array\n",
        "ar =[]\n",
        "cadena ='soy una cadena'\n",
        "print('Tamaño en memoria de la cadena:  ', \n",
        "      sys.getsizeof(cadena), 'bytes')\n",
        "for i in range(0,15):\n",
        "\n",
        "  elementos_en_ar = len(ar)\n",
        "  ar_en_memoria = sys.getsizeof(ar)\n",
        "  print(f'Elementos: {elementos_en_ar} \\\n",
        "  Tamaño: {ar_en_memoria} bytes')\n",
        "\n",
        "  ar.append(cadena)"
      ],
      "execution_count": 44,
      "outputs": [
        {
          "output_type": "stream",
          "text": [
            "Tamaño en memoria de la cadena:   63 bytes\n",
            "Elementos: 0   Tamaño: 72 bytes\n",
            "Elementos: 1   Tamaño: 104 bytes\n",
            "Elementos: 2   Tamaño: 104 bytes\n",
            "Elementos: 3   Tamaño: 104 bytes\n",
            "Elementos: 4   Tamaño: 104 bytes\n",
            "Elementos: 5   Tamaño: 136 bytes\n",
            "Elementos: 6   Tamaño: 136 bytes\n",
            "Elementos: 7   Tamaño: 136 bytes\n",
            "Elementos: 8   Tamaño: 136 bytes\n",
            "Elementos: 9   Tamaño: 200 bytes\n",
            "Elementos: 10   Tamaño: 200 bytes\n",
            "Elementos: 11   Tamaño: 200 bytes\n",
            "Elementos: 12   Tamaño: 200 bytes\n",
            "Elementos: 13   Tamaño: 200 bytes\n",
            "Elementos: 14   Tamaño: 200 bytes\n"
          ],
          "name": "stdout"
        }
      ]
    },
    {
      "cell_type": "markdown",
      "metadata": {
        "id": "T0W9u0yQNfdw"
      },
      "source": [
        "# Ejemplos de Clase"
      ]
    },
    {
      "cell_type": "code",
      "metadata": {
        "colab": {
          "base_uri": "https://localhost:8080/"
        },
        "id": "vlvMetfRCdFO",
        "outputId": "eebbed85-1488-4f1b-92e9-a3c62089bb6e"
      },
      "source": [
        "# Valores en arrays\n",
        "array = np.array([1,2,3])\n",
        "array"
      ],
      "execution_count": 2,
      "outputs": [
        {
          "output_type": "execute_result",
          "data": {
            "text/plain": [
              "array([1, 2, 3])"
            ]
          },
          "metadata": {
            "tags": []
          },
          "execution_count": 2
        }
      ]
    },
    {
      "cell_type": "code",
      "metadata": {
        "id": "W8Gd6x-cDGbd"
      },
      "source": [
        "# Valores en variables\n",
        "v1 = 1\n",
        "v2 = 2\n",
        "v3 = 3"
      ],
      "execution_count": 3,
      "outputs": []
    },
    {
      "cell_type": "code",
      "metadata": {
        "colab": {
          "base_uri": "https://localhost:8080/"
        },
        "id": "n788R9CGCztW",
        "outputId": "87c76d49-d3e6-48ab-b7a4-0d8c979055be"
      },
      "source": [
        "np.array('arrays')"
      ],
      "execution_count": 4,
      "outputs": [
        {
          "output_type": "execute_result",
          "data": {
            "text/plain": [
              "array('arrays', dtype='<U6')"
            ]
          },
          "metadata": {
            "tags": []
          },
          "execution_count": 4
        }
      ]
    },
    {
      "cell_type": "code",
      "metadata": {
        "colab": {
          "base_uri": "https://localhost:8080/",
          "height": 41
        },
        "id": "0huxWcZJIEMj",
        "outputId": "f07371dd-97c0-419d-ea19-9651c3d070fc"
      },
      "source": [
        "cadena = \"SAMPLE\"\n",
        "cadena "
      ],
      "execution_count": 5,
      "outputs": [
        {
          "output_type": "execute_result",
          "data": {
            "application/vnd.google.colaboratory.intrinsic+json": {
              "type": "string"
            },
            "text/plain": [
              "'SAMPLE'"
            ]
          },
          "metadata": {
            "tags": []
          },
          "execution_count": 5
        }
      ]
    },
    {
      "cell_type": "code",
      "metadata": {
        "colab": {
          "base_uri": "https://localhost:8080/",
          "height": 41
        },
        "id": "MRRcu1LlNklM",
        "outputId": "e9db8b69-fac0-4c6c-81a9-2cbd812e5187"
      },
      "source": [
        "'b'*10"
      ],
      "execution_count": 6,
      "outputs": [
        {
          "output_type": "execute_result",
          "data": {
            "application/vnd.google.colaboratory.intrinsic+json": {
              "type": "string"
            },
            "text/plain": [
              "'bbbbbbbbbb'"
            ]
          },
          "metadata": {
            "tags": []
          },
          "execution_count": 6
        }
      ]
    },
    {
      "cell_type": "code",
      "metadata": {
        "colab": {
          "base_uri": "https://localhost:8080/"
        },
        "id": "y5xqF_EvNhQP",
        "outputId": "96fe019b-2cbb-4fb7-9abf-27565d21cb1b"
      },
      "source": [
        "a_1 = np.array(['a', 'a'*10000])\n",
        "a_2 = np.array(['a', 'b'])\n",
        "\n",
        "a_1"
      ],
      "execution_count": 7,
      "outputs": [
        {
          "output_type": "execute_result",
          "data": {
            "text/plain": [
              "array(['a',\n",
              "       'aaaaaaaaaaaaaaaaaaaaaaaaaaaaaaaaaaaaaaaaaaaaaaaaaaaaaaaaaaaaaaaaaaaaaaaaaaaaaaaaaaaaaaaaaaaaaaaaaaaaaaaaaaaaaaaaaaaaaaaaaaaaaaaaaaaaaaaaaaaaaaaaaaaaaaaaaaaaaaaaaaaaaaaaaaaaaaaaaaaaaaaaaaaaaaaaaaaaaaaaaaaaaaaaaaaaaaaaaaaaaaaaaaaaaaaaaaaaaaaaaaaaaaaaaaaaaaaaaaaaaaaaaaaaaaaaaaaaaaaaaaaaaaaaaaaaaaaaaaaaaaaaaaaaaaaaaaaaaaaaaaaaaaaaaaaaaaaaaaaaaaaaaaaaaaaaaaaaaaaaaaaaaaaaaaaaaaaaaaaaaaaaaaaaaaaaaaaaaaaaaaaaaaaaaaaaaaaaaaaaaaaaaaaaaaaaaaaaaaaaaaaaaaaaaaaaaaaaaaaaaaaaaaaaaaaaaaaaaaaaaaaaaaaaaaaaaaaaaaaaaaaaaaaaaaaaaaaaaaaaaaaaaaaaaaaaaaaaaaaaaaaaaaaaaaaaaaaaaaaaaaaaaaaaaaaaaaaaaaaaaaaaaaaaaaaaaaaaaaaaaaaaaaaaaaaaaaaaaaaaaaaaaaaaaaaaaaaaaaaaaaaaaaaaaaaaaaaaaaaaaaaaaaaaaaaaaaaaaaaaaaaaaaaaaaaaaaaaaaaaaaaaaaaaaaaaaaaaaaaaaaaaaaaaaaaaaaaaaaaaaaaaaaaaaaaaaaaaaaaaaaaaaaaaaaaaaaaaaaaaaaaaaaaaaaaaaaaaaaaaaaaaaaaaaaaaaaaaaaaaaaaaaaaaaaaaaaaaaaaaaaaaaaaaaaaaaaaaaaaaaaaaaaaaaaaaaaaaaaaaaaaaaaaaaaaaaaaaaaaaaaaaaaaaaaaaaaaaaaaaaaaaaaaaaaaaaaaaaaaaaaaaaaaaaaaaaaaaaaaaaaaaaaaaaaaaaaaaaaaaaaaaaaaaaaaaaaaaaaaaaaaaaaaaaaaaaaaaaaaaaaaaaaaaaaaaaaaaaaaaaaaaaaaaaaaaaaaaaaaaaaaaaaaaaaaaaaaaaaaaaaaaaaaaaaaaaaaaaaaaaaaaaaaaaaaaaaaaaaaaaaaaaaaaaaaaaaaaaaaaaaaaaaaaaaaaaaaaaaaaaaaaaaaaaaaaaaaaaaaaaaaaaaaaaaaaaaaaaaaaaaaaaaaaaaaaaaaaaaaaaaaaaaaaaaaaaaaaaaaaaaaaaaaaaaaaaaaaaaaaaaaaaaaaaaaaaaaaaaaaaaaaaaaaaaaaaaaaaaaaaaaaaaaaaaaaaaaaaaaaaaaaaaaaaaaaaaaaaaaaaaaaaaaaaaaaaaaaaaaaaaaaaaaaaaaaaaaaaaaaaaaaaaaaaaaaaaaaaaaaaaaaaaaaaaaaaaaaaaaaaaaaaaaaaaaaaaaaaaaaaaaaaaaaaaaaaaaaaaaaaaaaaaaaaaaaaaaaaaaaaaaaaaaaaaaaaaaaaaaaaaaaaaaaaaaaaaaaaaaaaaaaaaaaaaaaaaaaaaaaaaaaaaaaaaaaaaaaaaaaaaaaaaaaaaaaaaaaaaaaaaaaaaaaaaaaaaaaaaaaaaaaaaaaaaaaaaaaaaaaaaaaaaaaaaaaaaaaaaaaaaaaaaaaaaaaaaaaaaaaaaaaaaaaaaaaaaaaaaaaaaaaaaaaaaaaaaaaaaaaaaaaaaaaaaaaaaaaaaaaaaaaaaaaaaaaaaaaaaaaaaaaaaaaaaaaaaaaaaaaaaaaaaaaaaaaaaaaaaaaaaaaaaaaaaaaaaaaaaaaaaaaaaaaaaaaaaaaaaaaaaaaaaaaaaaaaaaaaaaaaaaaaaaaaaaaaaaaaaaaaaaaaaaaaaaaaaaaaaaaaaaaaaaaaaaaaaaaaaaaaaaaaaaaaaaaaaaaaaaaaaaaaaaaaaaaaaaaaaaaaaaaaaaaaaaaaaaaaaaaaaaaaaaaaaaaaaaaaaaaaaaaaaaaaaaaaaaaaaaaaaaaaaaaaaaaaaaaaaaaaaaaaaaaaaaaaaaaaaaaaaaaaaaaaaaaaaaaaaaaaaaaaaaaaaaaaaaaaaaaaaaaaaaaaaaaaaaaaaaaaaaaaaaaaaaaaaaaaaaaaaaaaaaaaaaaaaaaaaaaaaaaaaaaaaaaaaaaaaaaaaaaaaaaaaaaaaaaaaaaaaaaaaaaaaaaaaaaaaaaaaaaaaaaaaaaaaaaaaaaaaaaaaaaaaaaaaaaaaaaaaaaaaaaaaaaaaaaaaaaaaaaaaaaaaaaaaaaaaaaaaaaaaaaaaaaaaaaaaaaaaaaaaaaaaaaaaaaaaaaaaaaaaaaaaaaaaaaaaaaaaaaaaaaaaaaaaaaaaaaaaaaaaaaaaaaaaaaaaaaaaaaaaaaaaaaaaaaaaaaaaaaaaaaaaaaaaaaaaaaaaaaaaaaaaaaaaaaaaaaaaaaaaaaaaaaaaaaaaaaaaaaaaaaaaaaaaaaaaaaaaaaaaaaaaaaaaaaaaaaaaaaaaaaaaaaaaaaaaaaaaaaaaaaaaaaaaaaaaaaaaaaaaaaaaaaaaaaaaaaaaaaaaaaaaaaaaaaaaaaaaaaaaaaaaaaaaaaaaaaaaaaaaaaaaaaaaaaaaaaaaaaaaaaaaaaaaaaaaaaaaaaaaaaaaaaaaaaaaaaaaaaaaaaaaaaaaaaaaaaaaaaaaaaaaaaaaaaaaaaaaaaaaaaaaaaaaaaaaaaaaaaaaaaaaaaaaaaaaaaaaaaaaaaaaaaaaaaaaaaaaaaaaaaaaaaaaaaaaaaaaaaaaaaaaaaaaaaaaaaaaaaaaaaaaaaaaaaaaaaaaaaaaaaaaaaaaaaaaaaaaaaaaaaaaaaaaaaaaaaaaaaaaaaaaaaaaaaaaaaaaaaaaaaaaaaaaaaaaaaaaaaaaaaaaaaaaaaaaaaaaaaaaaaaaaaaaaaaaaaaaaaaaaaaaaaaaaaaaaaaaaaaaaaaaaaaaaaaaaaaaaaaaaaaaaaaaaaaaaaaaaaaaaaaaaaaaaaaaaaaaaaaaaaaaaaaaaaaaaaaaaaaaaaaaaaaaaaaaaaaaaaaaaaaaaaaaaaaaaaaaaaaaaaaaaaaaaaaaaaaaaaaaaaaaaaaaaaaaaaaaaaaaaaaaaaaaaaaaaaaaaaaaaaaaaaaaaaaaaaaaaaaaaaaaaaaaaaaaaaaaaaaaaaaaaaaaaaaaaaaaaaaaaaaaaaaaaaaaaaaaaaaaaaaaaaaaaaaaaaaaaaaaaaaaaaaaaaaaaaaaaaaaaaaaaaaaaaaaaaaaaaaaaaaaaaaaaaaaaaaaaaaaaaaaaaaaaaaaaaaaaaaaaaaaaaaaaaaaaaaaaaaaaaaaaaaaaaaaaaaaaaaaaaaaaaaaaaaaaaaaaaaaaaaaaaaaaaaaaaaaaaaaaaaaaaaaaaaaaaaaaaaaaaaaaaaaaaaaaaaaaaaaaaaaaaaaaaaaaaaaaaaaaaaaaaaaaaaaaaaaaaaaaaaaaaaaaaaaaaaaaaaaaaaaaaaaaaaaaaaaaaaaaaaaaaaaaaaaaaaaaaaaaaaaaaaaaaaaaaaaaaaaaaaaaaaaaaaaaaaaaaaaaaaaaaaaaaaaaaaaaaaaaaaaaaaaaaaaaaaaaaaaaaaaaaaaaaaaaaaaaaaaaaaaaaaaaaaaaaaaaaaaaaaaaaaaaaaaaaaaaaaaaaaaaaaaaaaaaaaaaaaaaaaaaaaaaaaaaaaaaaaaaaaaaaaaaaaaaaaaaaaaaaaaaaaaaaaaaaaaaaaaaaaaaaaaaaaaaaaaaaaaaaaaaaaaaaaaaaaaaaaaaaaaaaaaaaaaaaaaaaaaaaaaaaaaaaaaaaaaaaaaaaaaaaaaaaaaaaaaaaaaaaaaaaaaaaaaaaaaaaaaaaaaaaaaaaaaaaaaaaaaaaaaaaaaaaaaaaaaaaaaaaaaaaaaaaaaaaaaaaaaaaaaaaaaaaaaaaaaaaaaaaaaaaaaaaaaaaaaaaaaaaaaaaaaaaaaaaaaaaaaaaaaaaaaaaaaaaaaaaaaaaaaaaaaaaaaaaaaaaaaaaaaaaaaaaaaaaaaaaaaaaaaaaaaaaaaaaaaaaaaaaaaaaaaaaaaaaaaaaaaaaaaaaaaaaaaaaaaaaaaaaaaaaaaaaaaaaaaaaaaaaaaaaaaaaaaaaaaaaaaaaaaaaaaaaaaaaaaaaaaaaaaaaaaaaaaaaaaaaaaaaaaaaaaaaaaaaaaaaaaaaaaaaaaaaaaaaaaaaaaaaaaaaaaaaaaaaaaaaaaaaaaaaaaaaaaaaaaaaaaaaaaaaaaaaaaaaaaaaaaaaaaaaaaaaaaaaaaaaaaaaaaaaaaaaaaaaaaaaaaaaaaaaaaaaaaaaaaaaaaaaaaaaaaaaaaaaaaaaaaaaaaaaaaaaaaaaaaaaaaaaaaaaaaaaaaaaaaaaaaaaaaaaaaaaaaaaaaaaaaaaaaaaaaaaaaaaaaaaaaaaaaaaaaaaaaaaaaaaaaaaaaaaaaaaaaaaaaaaaaaaaaaaaaaaaaaaaaaaaaaaaaaaaaaaaaaaaaaaaaaaaaaaaaaaaaaaaaaaaaaaaaaaaaaaaaaaaaaaaaaaaaaaaaaaaaaaaaaaaaaaaaaaaaaaaaaaaaaaaaaaaaaaaaaaaaaaaaaaaaaaaaaaaaaaaaaaaaaaaaaaaaaaaaaaaaaaaaaaaaaaaaaaaaaaaaaaaaaaaaaaaaaaaaaaaaaaaaaaaaaaaaaaaaaaaaaaaaaaaaaaaaaaaaaaaaaaaaaaaaaaaaaaaaaaaaaaaaaaaaaaaaaaaaaaaaaaaaaaaaaaaaaaaaaaaaaaaaaaaaaaaaaaaaaaaaaaaaaaaaaaaaaaaaaaaaaaaaaaaaaaaaaaaaaaaaaaaaaaaaaaaaaaaaaaaaaaaaaaaaaaaaaaaaaaaaaaaaaaaaaaaaaaaaaaaaaaaaaaaaaaaaaaaaaaaaaaaaaaaaaaaaaaaaaaaaaaaaaaaaaaaaaaaaaaaaaaaaaaaaaaaaaaaaaaaaaaaaaaaaaaaaaaaaaaaaaaaaaaaaaaaaaaaaaaaaaaaaaaaaaaaaaaaaaaaaaaaaaaaaaaaaaaaaaaaaaaaaaaaaaaaaaaaaaaaaaaaaaaaaaaaaaaaaaaaaaaaaaaaaaaaaaaaaaaaaaaaaaaaaaaaaaaaaaaaaaaaaaaaaaaaaaaaaaaaaaaaaaaaaaaaaaaaaaaaaaaaaaaaaaaaaaaaaaaaaaaaaaaaaaaaaaaaaaaaaaaaaaaaaaaaaaaaaaaaaaaaaaaaaaaaaaaaaaaaaaaaaaaaaaaaaaaaaaaaaaaaaaaaaaaaaaaaaaaaaaaaaaaaaaaaaaaaaaaaaaaaaaaaaaaaaaaaaaaaaaaaaaaaaaaaaaaaaaaaaaaaaaaaaaaaaaaaaaaaaaaaaaaaaaaaaaaaaaaaaaaaaaaaaaaaaaaaaaaaaaaaaaaaaaaaaaaaaaaaaaaaaaaaaaaaaaaaaaaaaaaaaaaaaaaaaaaaaaaaaaaaaaaaaaaaaaaaaaaaaaaaaaaaaaaaaaaaaaaaaaaaaaaaaaaaaaaaaaaaaaaaaaaaaaaaaaaaaaaaaaaaaaaaaaaaaaaaaaaaaaaaaaaaaaaaaaaaaaaaaaaaaaaaaaaaaaaaaaaaaaaaaaaaaaaaaaaaaaaaaaaaaaaaaaaaaaaaaaaaaaaaaaaaaaaaaaaaaaaaaaaaaaaaaaaaaaaaaaaaaaaaaaaaaaaaaaaaaaaaaaaaaaaaaaaaaaaaaaaaaaaaaaaaaaaaaaaaaaaaaaaaaaaaaaaaaaaaaaaaaaaaaaaaaaaaaaaaaaaaaaaaaaaaaaaaaaaaaaaaaaaaaaaaaaaaaaaaaaaaaaaaaaaaaaaaaaaaaaaaaaaaaaaaaaaaaaaaaaaaaaaaaaaaaaaaaaaaaaaaaaaaaaaaaaaaaaaaaaaaaaaaaaaaaaaaaaaaaaaaaaaaaaaaaaaaaaaaaaaaaaaaaaaaaaaaaaaaaaaaaaaaaaaaaaaaaaaaaaaaaaaaaaaaaaaaaaaaaaaaaaaaaaaaaaaaaaaaaaaaaaaaaaaaaaaaaaaaaaaaaaaaaaaaaaaaaaaaaaaaaaaaaaaaaaaaaaaaaaaaaaaaaaaaaaaaaaaaaaaaaaaaaaaaaaaaaaaaaaaaaaaaaaaaaaaaaaaaaaaaaaaaaaaaaaaaaaaaaaaaaaaaaaaaaaaaaaaaaaaaaaaaaaaaaaaaaaaaaaaaaaaaaaaaaaaaaaaaaaaaaaaaaaaaaaaaaaaaaaaaaaaaaaaaaaaaaaaaaaaaaaaaaaaaaaaaaaaaaaaaaaaaaaaaaaaaaaaaaaaaaaaaaaaaaaaaaaaaaaaaaaaaaaaaaaaaaaaaaaaaaaaaaaaaaaaaaaaaaaaaaaaaaaaaaaaaaaaaaaaaaaaaaaaaaaaaaaaaaaaaaaaaaaaaaaaaaaaaaaaaaaaaaaaaaaaaaaaaaaaaaaaaaaaaaaaaaaaaaaaaaaaaaaaaaaaaaaaaaaaaaaaaaaaaaaaaaaaaaaaaaaaaaaaaaaaaaaaaaaaaaaaaaaaaaaaaaaaaaaaaaaaaaaaaaaaaaaaaaaaaaaaaaaaaaaaaaaaaaaaaaaaaaaaaaaaaaaaaaaaaaaaaaaaaaaaaaaaaaaaaaaaaaaaaaaaaaaaaaaaaaaaaaaaaaaaaaaaaaaaaaaaaaaaaaaaaaaaaaaaaaaaaaaaaaaaaaaaaaaaaaaaaaaaaaaaaaaaaaaaaaaaaaaaaaaaaaaaaaaaaaaaaaaaaaaaaaaaaaaaaaaaaaaaaaaaaaaaaaaaaaaaaaaaaaaaaaaaaaaaaaaaaaaaaaaaaaaaaaaaaaaaaaaaaaaaaaaaaaaaaaaaaaaaaaaaaaaaaaaaaaaaaaaaaaaaaaaaaaaaaaaaaaaaaaaaaaaaaaaaaaaaaaaaaaaaaaaaaaaaaaaaaaaaaaaaaaaaaaaaaaaaaaaaaaaaaaaaaaaaaaaaaaaaaaaaaaaaaaaaaaaaaaaaaaaaaaaaaaaaaaaaaaaaaaaaaaaaaaaaaaaaaaaaaaaaaaaaaaaaaaaaaaaaaaaaaaaaaaaaaaaaaaaaaaaaaaaaaaaaaaaaaaaaaaaaaaaaaaaaaaaaaaaaaaaaaaaaaaaaaaaaaaaaaaaaaaaaaaaaaaaaaaaaaaaaaaaaaaaaaaaaaaaaaaaaaaaaaaaaaaaaaaaaaaaaaaaaaaaaaaaaaaaaaaaaaaaaaaaaaaaaaaaaaaaaaaaaaaaaaaaaaaaaaaaaaaaaaaaaaaaaaaaaaaaaaaaaaaaaaaaaaaaaaaaaaaaaaaaaaaaaaaaaaaaaaaaaaaaaaaaaaaaaaaaaaaaaaaaaaaaaaaaaaaaaaaaaaaaaaaaaaaaaaaaaaaaaaaaaaaaaaaaaaaaaaaaaaaaaaaaaaaaaaaaaaaaaaaaaaaaaaaaaaaaaaaaaaaaaaaaaaaaaaaaaaaaaaaaaaaaaaaaaaaaaaaaaaaaaaaaaaaaaaaaaaaaaaaaaaaaaaaaaaaaaaaaaaaaaaaaaaaaaaaaaaaaaaaaaaaaaaaaaaaaaaaaaaaaaaaaaaaaaaaaaaaaaaaaaaaaaaaaaaaaaaaaaaaaaaaaaaaaaaaaaaaaaaaaaaaaaaaaaaaaaaaaaaaaaaaaaaaaaaaaaaaaaaaaaaaaaaaaaaaaaaaaaaaaaaaaaaaaaaaaaaaaaaaaaaaaaaaaaaaaaaaaaaaaaaaaaaaaaaaaaaaaaaaaaaaaaaaaaaaaaaaaaaaaaaaaaaaaaaaaaaaaaaaaaaaaaaaaaaaaaaaaaaaaaaaaaaaaaaaaaaaaaaaaaaaaaaaaaaaaaaaaaaaaaaaaaaaaaaaaaaaaaaaaaaaaaaaaaaaaaaaaaaaaaaaaaaaaaaaaaaaaaaaaaaaaaaaaaaaaaaaaaaaaaaaaaaaaaaaaaaaaaaaaaaaaaaaaaaaaaaaaaaaaaaaaaaaaaaaaaaaaaaaaaaaaaaaaaaaaaaaaaaaaaaaaaaaaaaaaaaaaaaaaaaaaaaaaaaaaaaaaaaaaaaaaaaaaaaaaaaaaaaaaaaaaaaaaaaaaaaaaaaaaaaaaaaaaaaaaaaaaaaaaaaaaaaaaaaaaaaaaaaaaaaaaaaaaaaaaaaaaaaaaaaaaaaaaaaaaaaaaaaaaaaaaaaaaaaaaaaaaaaaaaaaaaaaaaaaaaaaaaaaaaaaaaaaaaaaaaaaaaaaaaaaaaaaaaaaaaaaaaaaaaaaaaaaaaaaaaaaaaaaaaaaaaaaaaaaaaaaaaaaaaaaaaaaaaaaaaaaaaaaaaaaaaaaaaaaaaaaaaaaaaaaaaaaaaaaaaaaaaaaaaaaaaaaaaaaaaaaaaaaaaaaaaaaaaaaaaaaaaaaaaaaaaaaaaaaaaaaaaaaaaaaaaaaaaaaaaaaaaaaaaaaaaaaaaaaaaaaaaaaaaaaaaaaaaaaaaaaaaaaaaaaaaaaaaaaaaaaaaaaaaaaaaaaaaaaaaaaaaaaaaaaaaaaaaaaaaaaaaaaaaaaaaaaaaaaaaaaaaaaaaaaaaaaaaaaaaaaaaaaaaaaaaaaaaaaaaaaaaaaaaaaaaaaaaaaaaaaaaaaaaaaaaaaaaaaaaaaaaaaaaaaaaaaaaaaaaaaaaaaaaaaaaaaaaaaaaaaaaaaaaaaaaaaaaaaaaaaaaaaaaaaaaaaaaaaaaaaaaaaaaaaaaaaaaaaaaaaaaaaaaaaaaaaaaaaaaaaaaaaaaaaaaaaaaaaaaaaaaaaaaaaaaaaaaaaaaaaaaaaaaaaaaaaaaaaaaaaaaaaaaaaaaaaaaaaaaaaaaaaaaaaaaaaaaaaaaaaaaaaaaaaaaaaaaaaaaaaaaaaaaaaaaaaaaaaaaaaaaaaaaaaaaaaaaaaaaaaaaaaaaaaaaaaaaaaaaaaaaaaaaaaaaaaaaaaaaaaaaaaaaaaaaaaaaaaaaaaaaaaaaaaaaaaaaaaaaaaaaaaaaaaaaaaaaaaaaaaaaaaaaaaaaaaaaaaaaaaaaaaaaaaaaaaaaaaaaaaaaaaaaaaaaaaaaaaaaaaaaaaaaaaaaaaaaaaaaaaaaaaaaaaaaaaaaaaaaaaaaaaaaaaaaaaaaaaaaaaaaaaaaaaaaaaaaaaaaaaaaaaaaaaaaaaaaaaaaaaaaaaaaaaaaaaaaaaaaaaaaaaaaaaaaaaaaaaaaaaaaaaaaaaaaaaaaaaaaaaaaaaaaaaaaaaaaaaaaaaaaaaaaaaaaaaaaaaaaaaaaaaaaaaaaaaaaaaaaaaaaaaaaaaaaaaaaaaaaaaaaaaaaaaaaaaaaaaaaaaaaaaaaaaaaaaaaaaaaaaaaaaaaaaaaaaaaaaaaaaaaaaaaaaaaaaaaaaaaaaaaaaaaaaaaaaaaaaaaaaaaaaaaaaaaaaaaaaaaaaaaaaaaaaaaaaaaaaaaaaaaaaaaaaaaaaaaaaaaaaaaaaaaaaaaaaaaaaaaaaaaaaaaaaaaaaaaaaaaaaaaaaaaaaaaaaaaaaaaaaaaaaaaaaaaaaaaaaaaaaaaaaaaaaaaaaaaaaaaaaaaaaaaaaaaaaaaaaaaaaaaaaaaaaaaaaaaaaaaaaaaaaaaaaaaaaaaaaaaaaaaaaaaaaaaaaaaaaaaaaaaaaaaaaaaaaaaaaaaaaaaaaaaaaaaaaaaaaaaaaaaaaaaaaaaaaaaaaaaaaaaaaaaaaaaaaaaaaaaaaaaaaaaaaaaaaaaaaaaaaaaaaaaaaaaaaaaaaaaaaaaaaaaaaaaaaaaaaaaaaaaaaaaaaaaaaaaaaaaaaaaaaaaaaaaaaaaaaaaaaaaaaaaaaaaaaaaaaaaaaaaaaaaaaaaaaaaaaaaaaaaaaaaaaaaaaaaaaaaaaaaaaaaaaaaaaaaaaaaaaaaaaaaaaaaaaaaaaaaaaaaaaaaaaaaaaaaaaaaaaaaaaaaaaaa'],\n",
              "      dtype='<U10000')"
            ]
          },
          "metadata": {
            "tags": []
          },
          "execution_count": 7
        }
      ]
    },
    {
      "cell_type": "markdown",
      "metadata": {
        "id": "VnvDVXuUTNsY"
      },
      "source": [
        "## Slices"
      ]
    },
    {
      "cell_type": "code",
      "metadata": {
        "colab": {
          "base_uri": "https://localhost:8080/"
        },
        "id": "zYEsX8L56bKo",
        "outputId": "bb30c784-1704-49c2-c56b-b8121c698d89"
      },
      "source": [
        "d1 = {'a':[1,2,3],'b':[4,5,6]}\n",
        "d2 = {1:'aaa',2: 'bbb'}\n",
        "# Array Referenciado de diccionarios\n",
        "a = np.array([d1, d2])\n",
        "# Slice de array diferenciado de diccionarios\n",
        "b = a[1:]\n",
        "print('Contenido original')\n",
        "print(a)\n",
        "print(b)\n",
        "# Cambiemos la variable d2\n",
        "d2 = 'cambiemos el segundo diccionario'\n",
        "print('\\n Nuevo Contenido')\n",
        "print(a)\n",
        "print(b)\n",
        "print(d2)"
      ],
      "execution_count": 8,
      "outputs": [
        {
          "output_type": "stream",
          "text": [
            "Contenido original\n",
            "[{'a': [1, 2, 3], 'b': [4, 5, 6]} {1: 'aaa', 2: 'bbb'}]\n",
            "[{1: 'aaa', 2: 'bbb'}]\n",
            "\n",
            " Nuevo Contenido\n",
            "[{'a': [1, 2, 3], 'b': [4, 5, 6]} {1: 'aaa', 2: 'bbb'}]\n",
            "[{1: 'aaa', 2: 'bbb'}]\n",
            "cambiemos el segundo diccionario\n"
          ],
          "name": "stdout"
        }
      ]
    },
    {
      "cell_type": "code",
      "metadata": {
        "colab": {
          "base_uri": "https://localhost:8080/"
        },
        "id": "C13zV3HPTSNW",
        "outputId": "ea2aa240-49d0-4b93-d84b-cb68297e4e25"
      },
      "source": [
        "d1 = {'a':[1,2,3],'b':[4,5,6]}\n",
        "d2 = {1:'aaa',2: 'bbb'}\n",
        "# Array Referenciado de diccionarios\n",
        "a = np.array([d1, d2])\n",
        "# Slice de array diferenciado de diccionarios\n",
        "b = a[1:]\n",
        "print('Contenido original')\n",
        "print(a)\n",
        "print(b)\n",
        "# Cambiemos el objeto al que apunta a[1]\n",
        "a[1] = 'cambiemos el segundo diccionario'\n",
        "print('\\n Nuevo Contenido')\n",
        "print(a)\n",
        "print(b)\n",
        "print(d2)"
      ],
      "execution_count": 9,
      "outputs": [
        {
          "output_type": "stream",
          "text": [
            "Contenido original\n",
            "[{'a': [1, 2, 3], 'b': [4, 5, 6]} {1: 'aaa', 2: 'bbb'}]\n",
            "[{1: 'aaa', 2: 'bbb'}]\n",
            "\n",
            " Nuevo Contenido\n",
            "[{'a': [1, 2, 3], 'b': [4, 5, 6]} 'cambiemos el segundo diccionario']\n",
            "['cambiemos el segundo diccionario']\n",
            "{1: 'aaa', 2: 'bbb'}\n"
          ],
          "name": "stdout"
        }
      ]
    },
    {
      "cell_type": "code",
      "metadata": {
        "colab": {
          "base_uri": "https://localhost:8080/"
        },
        "id": "o0MNWuBFUk0-",
        "outputId": "425d4e22-9a93-4b25-f1da-52475b81cd20"
      },
      "source": [
        "d1 = {'a':[1,2,3],'b':[4,5,6]}\n",
        "d2 = {1:'aaa',2: 'bbb'}\n",
        "# Array Referenciado de diccionarios\n",
        "a = np.array([d1, d2])\n",
        "# Slice de array diferenciado de diccionarios\n",
        "b = a[1:]\n",
        "print('Contenido original')\n",
        "print(a)\n",
        "print(b)\n",
        "# Cambiemos el objeto al que apunta b[0]\n",
        "b[0] = 'cambiemos el segundo diccionario'\n",
        "print('\\n Nuevo Contenido')\n",
        "print(a)\n",
        "print(b)\n",
        "print(d2)"
      ],
      "execution_count": 10,
      "outputs": [
        {
          "output_type": "stream",
          "text": [
            "Contenido original\n",
            "[{'a': [1, 2, 3], 'b': [4, 5, 6]} {1: 'aaa', 2: 'bbb'}]\n",
            "[{1: 'aaa', 2: 'bbb'}]\n",
            "\n",
            " Nuevo Contenido\n",
            "[{'a': [1, 2, 3], 'b': [4, 5, 6]} 'cambiemos el segundo diccionario']\n",
            "['cambiemos el segundo diccionario']\n",
            "{1: 'aaa', 2: 'bbb'}\n"
          ],
          "name": "stdout"
        }
      ]
    },
    {
      "cell_type": "markdown",
      "metadata": {
        "id": "G04RNTBS5z2s"
      },
      "source": [
        "## Copy en arrays"
      ]
    },
    {
      "cell_type": "code",
      "metadata": {
        "colab": {
          "base_uri": "https://localhost:8080/"
        },
        "id": "b48yQo2q5wwa",
        "outputId": "cc6a6d5a-34b5-4c62-b6ed-80fe9274ee0d"
      },
      "source": [
        "d1 = {'a':[1,2,3],'b':[4,5,6]}\n",
        "d2 = {1:'aaa',2: 'bbb'}\n",
        "# Array Referenciado de diccionarios\n",
        "a = np.array([d1, d2])\n",
        "# Slice de array diferenciado de diccionarios\n",
        "b = a[1:].copy()\n",
        "print('Contenido original')\n",
        "print(a)\n",
        "print(b)\n",
        "# Cambiemos el objeto al que apunta a[1]\n",
        "a[1] = 'cambiemos el segundo diccionario'\n",
        "print('\\n Nuevo Contenido')\n",
        "print(a)\n",
        "print(b)\n",
        "print(d2)"
      ],
      "execution_count": 11,
      "outputs": [
        {
          "output_type": "stream",
          "text": [
            "Contenido original\n",
            "[{'a': [1, 2, 3], 'b': [4, 5, 6]} {1: 'aaa', 2: 'bbb'}]\n",
            "[{1: 'aaa', 2: 'bbb'}]\n",
            "\n",
            " Nuevo Contenido\n",
            "[{'a': [1, 2, 3], 'b': [4, 5, 6]} 'cambiemos el segundo diccionario']\n",
            "[{1: 'aaa', 2: 'bbb'}]\n",
            "{1: 'aaa', 2: 'bbb'}\n"
          ],
          "name": "stdout"
        }
      ]
    },
    {
      "cell_type": "markdown",
      "metadata": {
        "id": "k9NeVBoL7peh"
      },
      "source": [
        "## Counters"
      ]
    },
    {
      "cell_type": "markdown",
      "metadata": {
        "id": "jPb_oU8M-c_c"
      },
      "source": [
        "### Caracteres"
      ]
    },
    {
      "cell_type": "code",
      "metadata": {
        "id": "mi24dC_F-fG7"
      },
      "source": [
        "a = np.array(['a']*3)"
      ],
      "execution_count": 12,
      "outputs": []
    },
    {
      "cell_type": "code",
      "metadata": {
        "colab": {
          "base_uri": "https://localhost:8080/"
        },
        "id": "ie5lTtIg-hX5",
        "outputId": "d4214f80-18a6-4d05-afaa-159371095f9f"
      },
      "source": [
        "a[1] = 'fg'\n",
        "a "
      ],
      "execution_count": 13,
      "outputs": [
        {
          "output_type": "execute_result",
          "data": {
            "text/plain": [
              "array(['a', 'f', 'a'], dtype='<U1')"
            ]
          },
          "metadata": {
            "tags": []
          },
          "execution_count": 13
        }
      ]
    },
    {
      "cell_type": "markdown",
      "metadata": {
        "id": "_LA7EIs2-bAM"
      },
      "source": [
        "## Strings"
      ]
    },
    {
      "cell_type": "code",
      "metadata": {
        "colab": {
          "base_uri": "https://localhost:8080/"
        },
        "id": "AfS_Rhg97rjE",
        "outputId": "dfcd92cc-76cc-4c69-fc5c-95eeb809c898"
      },
      "source": [
        "a = np.array(['aa']*3)\n",
        "a"
      ],
      "execution_count": 14,
      "outputs": [
        {
          "output_type": "execute_result",
          "data": {
            "text/plain": [
              "array(['aa', 'aa', 'aa'], dtype='<U2')"
            ]
          },
          "metadata": {
            "tags": []
          },
          "execution_count": 14
        }
      ]
    },
    {
      "cell_type": "code",
      "metadata": {
        "colab": {
          "base_uri": "https://localhost:8080/"
        },
        "id": "oM5b2H1-8NhO",
        "outputId": "cda68dc3-7449-4be8-e1e9-6fdbcbdd977d"
      },
      "source": [
        "a[1] = 'fg'\n",
        "a "
      ],
      "execution_count": 15,
      "outputs": [
        {
          "output_type": "execute_result",
          "data": {
            "text/plain": [
              "array(['aa', 'fg', 'aa'], dtype='<U2')"
            ]
          },
          "metadata": {
            "tags": []
          },
          "execution_count": 15
        }
      ]
    },
    {
      "cell_type": "code",
      "metadata": {
        "colab": {
          "base_uri": "https://localhost:8080/"
        },
        "id": "dnFZLRL5BuEC",
        "outputId": "0c7a8c9f-d007-42b4-fd56-a6b68abc68d8"
      },
      "source": [
        "list()"
      ],
      "execution_count": 16,
      "outputs": [
        {
          "output_type": "execute_result",
          "data": {
            "text/plain": [
              "[]"
            ]
          },
          "metadata": {
            "tags": []
          },
          "execution_count": 16
        }
      ]
    },
    {
      "cell_type": "code",
      "metadata": {
        "colab": {
          "base_uri": "https://localhost:8080/"
        },
        "id": "CmteB6wSCawn",
        "outputId": "cf46c403-0ec3-4cf1-8c0b-0c2cef8b2631"
      },
      "source": [
        "np.array([])"
      ],
      "execution_count": 17,
      "outputs": [
        {
          "output_type": "execute_result",
          "data": {
            "text/plain": [
              "array([], dtype=float64)"
            ]
          },
          "metadata": {
            "tags": []
          },
          "execution_count": 17
        }
      ]
    },
    {
      "cell_type": "markdown",
      "metadata": {
        "id": "L5V4yHWzUYc4"
      },
      "source": [
        "# Array Dinamico en Python"
      ]
    },
    {
      "cell_type": "markdown",
      "metadata": {
        "id": "V-NUVh1mUaUA"
      },
      "source": [
        "El codigo de esta implementacion esta basado en [geeksforgeeks](https://www.geeksforgeeks.org/implementation-of-dynamic-array-in-python/) y se encuentra en python 2, nostros usamos el 3."
      ]
    },
    {
      "cell_type": "markdown",
      "metadata": {
        "id": "rEHPbxlHcHZm"
      },
      "source": [
        "Utilizaremso la libreria de [ctypes](https://docs.python.org/3/library/ctypes.html). "
      ]
    },
    {
      "cell_type": "code",
      "metadata": {
        "id": "0kP2NTOOUlNe"
      },
      "source": [
        "# Para definir que metodos puede ver el usuario\n",
        "# Si empieza con '_' seran privados de lo contrario seran publicos.\n",
        "class M(object):\n",
        "    \n",
        "    def public(self):\n",
        "        print('Usa Tab para verme!')\n",
        "        \n",
        "    def _private(self):\n",
        "        print(\"No podras usar Tab para verme!\")"
      ],
      "execution_count": 46,
      "outputs": []
    },
    {
      "cell_type": "code",
      "metadata": {
        "id": "WR-m5Ei_VMZQ"
      },
      "source": [
        "import ctypes\n",
        "\n",
        "class DynamicArray(object):\n",
        "    '''\n",
        "    DYNAMIC ARRAY CLASS (Similar a la lista de python)\n",
        "    '''\n",
        "    \n",
        "    def __init__(self):\n",
        "        self.n = 0 # Numero de elementos (Default es 0)\n",
        "        self.capacity = 1 # Capacidad Default\n",
        "        self.A = self.crear_array(self.capacity)\n",
        "        \n",
        "    def __len__(self):\n",
        "        \"\"\"\n",
        "        Regresa el numero de elementos en el array\n",
        "        \"\"\"\n",
        "        return self.n\n",
        "    \n",
        "    def __getitem__(self,k):\n",
        "        \"\"\"\n",
        "        Regresa el elemento en la posicion k\n",
        "        \"\"\"\n",
        "        if not 0 <= k <self.n:\n",
        "            # Revisa si el indice k esta fuera del limite\n",
        "            return IndexError('El indice k esta fuera del limite!') \n",
        "  \n",
        "        return self.A[k] \n",
        "        \n",
        "    def append(self, ele):\n",
        "        \"\"\"\n",
        "        Agrega un elemento al array\n",
        "        \"\"\"\n",
        "        if self.n == self.capacity:\n",
        "            # Duplica (x2) la memoria/capacidad del array\n",
        "            # si esta lleno\n",
        "            self._resize(2*self.capacity)\n",
        "        # Asigna el indice adecuado al nuevo elemento\n",
        "        self.A[self.n] = ele \n",
        "        self.n += 1\n",
        "        \n",
        "    def _resize(self,new_cap):\n",
        "        \"\"\"\n",
        "        Cambia el tamaño interno del array al nuevo tamaño new_cap\n",
        "        \"\"\"\n",
        "        # Nuevo array\n",
        "        B = self.crear_array(new_cap) \n",
        "        # B referncia a los valores en el array A\n",
        "        for k in range(self.n): \n",
        "            B[k] = self.A[k]\n",
        "        # Renombra el nuevo array B como A    \n",
        "        self.A = B \n",
        "        # Reset la nueva capacidad\n",
        "        self.capacity = new_cap\n",
        "        \n",
        "    def crear_array(self,new_cap):\n",
        "        \"\"\"\n",
        "        Regresa el array con nueva capacidad\n",
        "        \"\"\"\n",
        "        return (new_cap * ctypes.py_object)()\n"
      ],
      "execution_count": 67,
      "outputs": []
    },
    {
      "cell_type": "code",
      "metadata": {
        "colab": {
          "base_uri": "https://localhost:8080/"
        },
        "id": "DiikJyPvXH5r",
        "outputId": "ab76ecd4-ac53-4b9b-960c-69df202e1c5a"
      },
      "source": [
        "# Creemos el objeto arr\n",
        "arr = DynamicArray()\n",
        "# Agreguemos un nuevo elemento\n",
        "arr.append(1)\n",
        "len(arr)"
      ],
      "execution_count": 69,
      "outputs": [
        {
          "output_type": "execute_result",
          "data": {
            "text/plain": [
              "1"
            ]
          },
          "metadata": {
            "tags": []
          },
          "execution_count": 69
        }
      ]
    },
    {
      "cell_type": "code",
      "metadata": {
        "colab": {
          "base_uri": "https://localhost:8080/"
        },
        "id": "XPG8eM7TXVEj",
        "outputId": "fbb6d362-8ae5-4735-d515-996dec28f3db"
      },
      "source": [
        "# Agrega un nuevo elemento\n",
        "arr.append(2)\n",
        "len(arr)"
      ],
      "execution_count": 70,
      "outputs": [
        {
          "output_type": "execute_result",
          "data": {
            "text/plain": [
              "2"
            ]
          },
          "metadata": {
            "tags": []
          },
          "execution_count": 70
        }
      ]
    },
    {
      "cell_type": "markdown",
      "metadata": {
        "id": "A1_Eg3zeXqFg"
      },
      "source": [
        "Tamaño del array"
      ]
    },
    {
      "cell_type": "code",
      "metadata": {
        "colab": {
          "base_uri": "https://localhost:8080/"
        },
        "id": "goV_PEToXr2F",
        "outputId": "46cd78a4-4b7a-4607-9ee5-7057d7fd6120"
      },
      "source": [
        "arr = DynamicArray()\n",
        "\n",
        "for i in range(20):\n",
        "  print(f'Elementos: {arr.n} \\\n",
        "  Capacidad: {arr.capacity}')\n",
        "  arr.append(i)"
      ],
      "execution_count": 72,
      "outputs": [
        {
          "output_type": "stream",
          "text": [
            "Elementos: 0   Capacidad: 1\n",
            "Elementos: 1   Capacidad: 1\n",
            "Elementos: 2   Capacidad: 2\n",
            "Elementos: 3   Capacidad: 4\n",
            "Elementos: 4   Capacidad: 4\n",
            "Elementos: 5   Capacidad: 8\n",
            "Elementos: 6   Capacidad: 8\n",
            "Elementos: 7   Capacidad: 8\n",
            "Elementos: 8   Capacidad: 8\n",
            "Elementos: 9   Capacidad: 16\n",
            "Elementos: 10   Capacidad: 16\n",
            "Elementos: 11   Capacidad: 16\n",
            "Elementos: 12   Capacidad: 16\n",
            "Elementos: 13   Capacidad: 16\n",
            "Elementos: 14   Capacidad: 16\n",
            "Elementos: 15   Capacidad: 16\n",
            "Elementos: 16   Capacidad: 16\n",
            "Elementos: 17   Capacidad: 32\n",
            "Elementos: 18   Capacidad: 32\n",
            "Elementos: 19   Capacidad: 32\n"
          ],
          "name": "stdout"
        }
      ]
    },
    {
      "cell_type": "markdown",
      "metadata": {
        "id": "xEl02AX3seDr"
      },
      "source": [
        "## Pregunta de Tarea"
      ]
    },
    {
      "cell_type": "markdown",
      "metadata": {
        "id": "gfd8HGHMsf61"
      },
      "source": [
        "Cual es la complejidad del metodo `def __getitem__(self,k)` en funcion de $k$ y de $n$?"
      ]
    }
  ]
}