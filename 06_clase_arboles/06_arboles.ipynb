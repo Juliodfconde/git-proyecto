{
  "nbformat": 4,
  "nbformat_minor": 0,
  "metadata": {
    "colab": {
      "name": "06_arboles.ipynb",
      "provenance": [],
      "collapsed_sections": [],
      "authorship_tag": "ABX9TyMDqEMMsOwl09MWMx643Fsh",
      "include_colab_link": true
    },
    "kernelspec": {
      "name": "python3",
      "display_name": "Python 3"
    },
    "language_info": {
      "name": "python"
    }
  },
  "cells": [
    {
      "cell_type": "markdown",
      "metadata": {
        "id": "view-in-github",
        "colab_type": "text"
      },
      "source": [
        "<a href=\"https://colab.research.google.com/github/IEXE-Tec/analisis_de_algoritmos/blob/main/06_arboles.ipynb\" target=\"_parent\"><img src=\"https://colab.research.google.com/assets/colab-badge.svg\" alt=\"Open In Colab\"/></a>"
      ]
    },
    {
      "cell_type": "markdown",
      "metadata": {
        "id": "VMjRmtQwkUOH"
      },
      "source": [
        "# Arboles "
      ]
    },
    {
      "cell_type": "markdown",
      "metadata": {
        "id": "y-hPWZPO1E_G"
      },
      "source": [
        "[Fuente de codigo e investigacion](https://www.geeksforgeeks.org/binary-tree-data-structure/)"
      ]
    },
    {
      "cell_type": "markdown",
      "metadata": {
        "id": "A1PvyJFLji6h"
      },
      "source": [
        "# Arboles Binarios con Listas"
      ]
    },
    {
      "cell_type": "code",
      "metadata": {
        "id": "eW5VN7Ahjmel"
      },
      "source": [
        "def ArbolBinario(r):\n",
        "    return [r, [], []]\n",
        "\n",
        "''' \n",
        "Los siguientes metodo modifican al ArbolBinario\n",
        "directamente. Seria conveniente poner todo esto en un\n",
        "objeto para seguir buenas practicas.\n",
        "'''\n",
        "def insertar_izq(raiz, rama):\n",
        "    t = raiz.pop(1)\n",
        "    if len(t) > 1:\n",
        "        raiz.insert(1,[rama,t,[]])\n",
        "    else:\n",
        "        raiz.insert(1,[rama, [], []])\n",
        "    return raiz\n",
        "\n",
        "def insertar_der(raiz, rama):\n",
        "    t = raiz.pop(2)\n",
        "    if len(t) > 1:\n",
        "        raiz.insert(2,[rama,[],t])\n",
        "    else:\n",
        "        raiz.insert(2,[rama,[],[]])\n",
        "    return raiz\n",
        "\n",
        "def view_raiz(raiz):\n",
        "    return raiz[0]\n",
        "\n",
        "def insertar_raiz(raiz, valor):\n",
        "    raiz[0] = valor\n",
        "\n",
        "def view_hijo_izq(raiz):\n",
        "    return raiz[1]\n",
        "\n",
        "def view_hijo_der(raiz):\n",
        "    return raiz[2]"
      ],
      "execution_count": 1,
      "outputs": []
    },
    {
      "cell_type": "code",
      "metadata": {
        "colab": {
          "base_uri": "https://localhost:8080/"
        },
        "id": "hidGMgD-n2UY",
        "outputId": "c628098b-82ee-4b96-f784-43ebce570782"
      },
      "source": [
        "# Crear arbol\n",
        "deku = ArbolBinario(0)\n",
        "deku"
      ],
      "execution_count": 2,
      "outputs": [
        {
          "output_type": "execute_result",
          "data": {
            "text/plain": [
              "[0, [], []]"
            ]
          },
          "metadata": {
            "tags": []
          },
          "execution_count": 2
        }
      ]
    },
    {
      "cell_type": "code",
      "metadata": {
        "colab": {
          "base_uri": "https://localhost:8080/"
        },
        "id": "4aV3xn-KzCYt",
        "outputId": "dab5cabc-7014-4e28-80a0-16cac68d7c96"
      },
      "source": [
        "# Insertar nodo a la izq\n",
        "insertar_izq(raiz=deku, rama=1)\n",
        "#insertar_izq(raiz=deku, rama=2)\n",
        "# insertar_izq(raiz=deku, rama=3)\n",
        "# insertar_izq(raiz=deku, rama=4)\n",
        "insertar_der(raiz=deku, rama=2)"
      ],
      "execution_count": 3,
      "outputs": [
        {
          "output_type": "execute_result",
          "data": {
            "text/plain": [
              "[0, [1, [], []], [2, [], []]]"
            ]
          },
          "metadata": {
            "tags": []
          },
          "execution_count": 3
        }
      ]
    },
    {
      "cell_type": "code",
      "metadata": {
        "colab": {
          "base_uri": "https://localhost:8080/"
        },
        "id": "NVoZRYW_vNwX",
        "outputId": "8305b876-323c-4a8c-a0db-69b41727dad5"
      },
      "source": [
        "insertar_der(raiz=deku[1], rama=3)\n",
        "deku"
      ],
      "execution_count": 4,
      "outputs": [
        {
          "output_type": "execute_result",
          "data": {
            "text/plain": [
              "[0, [1, [], [3, [], []]], [2, [], []]]"
            ]
          },
          "metadata": {
            "tags": []
          },
          "execution_count": 4
        }
      ]
    },
    {
      "cell_type": "code",
      "metadata": {
        "colab": {
          "base_uri": "https://localhost:8080/"
        },
        "id": "PE1CeNktokq9",
        "outputId": "20f79f0a-7563-4442-9931-2984fe51b9a5"
      },
      "source": [
        "# Ver arbol derecho\n",
        "view_hijo_izq(deku)"
      ],
      "execution_count": 5,
      "outputs": [
        {
          "output_type": "execute_result",
          "data": {
            "text/plain": [
              "[1, [], [3, [], []]]"
            ]
          },
          "metadata": {
            "tags": []
          },
          "execution_count": 5
        }
      ]
    },
    {
      "cell_type": "code",
      "metadata": {
        "colab": {
          "base_uri": "https://localhost:8080/"
        },
        "id": "a5dcpoaYzJpK",
        "outputId": "967aab08-4e3c-4ee7-e367-55bb7d563ef2"
      },
      "source": [
        "insertar_der(raiz=deku, rama=1)\n"
      ],
      "execution_count": 6,
      "outputs": [
        {
          "output_type": "execute_result",
          "data": {
            "text/plain": [
              "[0, [1, [], [3, [], []]], [1, [], [2, [], []]]]"
            ]
          },
          "metadata": {
            "tags": []
          },
          "execution_count": 6
        }
      ]
    },
    {
      "cell_type": "code",
      "metadata": {
        "colab": {
          "base_uri": "https://localhost:8080/"
        },
        "id": "293xgTIDzNKq",
        "outputId": "d6e35b6a-873f-4497-8dfa-887a5723d42b"
      },
      "source": [
        "view_hijo_der(deku)"
      ],
      "execution_count": 7,
      "outputs": [
        {
          "output_type": "execute_result",
          "data": {
            "text/plain": [
              "[1, [], [2, [], []]]"
            ]
          },
          "metadata": {
            "tags": []
          },
          "execution_count": 7
        }
      ]
    },
    {
      "cell_type": "markdown",
      "metadata": {
        "id": "lw9mCk1rypoG"
      },
      "source": [
        "## Implementacion con Nodos"
      ]
    },
    {
      "cell_type": "code",
      "metadata": {
        "id": "slQtd-pFys37"
      },
      "source": [
        "\n",
        "\n",
        "class ArbolBinario(object):\n",
        "  \n",
        "    def __init__(self, valor):\n",
        "        self.raiz = valor\n",
        "        self.HijoIzq = None\n",
        "        self.HijoDer = None\n",
        "\n",
        "    def insertar_izq(self, nuevo_nodo):\n",
        "        if self.HijoIzq == None:\n",
        "           self.HijoIzq = ArbolBinario(nuevo_nodo)\n",
        "        else:\n",
        "            t = ArbolBinario(nuevo_nodo)\n",
        "            t.HijoIzq = self.HijoIzq\n",
        "            self.HijoIzq = t\n",
        "\n",
        "    def insertar_der(self, nuevo_nodo):\n",
        "        if self.HijoDer == None:\n",
        "            self.HijoDer = ArbolBinario(nuevo_nodo)\n",
        "        else:\n",
        "            t = ArbolBinario(nuevo_nodo)\n",
        "            t.HijoDer = self.HijoDer\n",
        "            self.HijoDer = t\n",
        "\n",
        "    def obtenerHijoDer(self):\n",
        "        return self.HijoDer\n",
        "\n",
        "    def obtenerHijoIzq(self):\n",
        "        return self.HijoIzq\n",
        "\n",
        "    def guardarRaiz(self,valor):\n",
        "        self.raiz = valor\n",
        "\n",
        "    def obtenerValorRaiz(self):\n",
        "        return self.raiz\n",
        "'''\n",
        "Funciones de Recorrido fuera de la clase\n",
        "Para nuestra implementacion de BST estaran\n",
        "dentro de la clase BST\n",
        "'''\n",
        "\n",
        "def preorder(subarbol):\n",
        "    if subarbol:\n",
        "        print(subarbol.obtenerValorRaiz())\n",
        "        preorder(subarbol.obtenerHijoIzq())\n",
        "        preorder(subarbol.obtenerHijoDer())\n",
        "\n",
        "def inorder(subarbol):\n",
        "    if subarbol:\n",
        "        inorder(subarbol.obtenerHijoIzq())\n",
        "        print(subarbol.obtenerValorRaiz())     \n",
        "        inorder(subarbol.obtenerHijoDer())\n",
        "\n",
        "def postorder(subarbol):\n",
        "    if subarbol:\n",
        "        postorder(subarbol.obtenerHijoIzq())\n",
        "        postorder(subarbol.obtenerHijoDer())\n",
        "        print(subarbol.obtenerValorRaiz())\n",
        "\n"
      ],
      "execution_count": 8,
      "outputs": []
    },
    {
      "cell_type": "code",
      "metadata": {
        "id": "gKPayd_n5NX5"
      },
      "source": [
        "bob = ArbolBinario('raiz')\n",
        "bob.insertar_izq('izq')\n",
        "bob.insertar_der('der')"
      ],
      "execution_count": 9,
      "outputs": []
    },
    {
      "cell_type": "markdown",
      "metadata": {
        "id": "KXgWTrF_9ekk"
      },
      "source": [
        "## Recorrido Arboles"
      ]
    },
    {
      "cell_type": "markdown",
      "metadata": {
        "id": "pPY-73DsUDKf"
      },
      "source": [
        "[Tree Traversals](https://www.geeksforgeeks.org/tree-traversals-inorder-preorder-and-postorder/)"
      ]
    },
    {
      "cell_type": "code",
      "metadata": {
        "colab": {
          "base_uri": "https://localhost:8080/"
        },
        "id": "Had3bYCc9kfA",
        "outputId": "4c7e722e-5543-4a3b-83ad-ff39638d93e6"
      },
      "source": [
        "preorder(bob)"
      ],
      "execution_count": 10,
      "outputs": [
        {
          "output_type": "stream",
          "text": [
            "raiz\n",
            "izq\n",
            "der\n"
          ],
          "name": "stdout"
        }
      ]
    },
    {
      "cell_type": "code",
      "metadata": {
        "colab": {
          "base_uri": "https://localhost:8080/"
        },
        "id": "6ypX31mI_ufa",
        "outputId": "96078981-227d-4a60-ce48-38ba9efe06fb"
      },
      "source": [
        "inorder(bob)"
      ],
      "execution_count": 11,
      "outputs": [
        {
          "output_type": "stream",
          "text": [
            "izq\n",
            "raiz\n",
            "der\n"
          ],
          "name": "stdout"
        }
      ]
    },
    {
      "cell_type": "code",
      "metadata": {
        "colab": {
          "base_uri": "https://localhost:8080/"
        },
        "id": "53IQ52Q6_xJP",
        "outputId": "7231ad83-662b-435f-b94c-36099257cfb6"
      },
      "source": [
        "postorder(bob)"
      ],
      "execution_count": 12,
      "outputs": [
        {
          "output_type": "stream",
          "text": [
            "izq\n",
            "der\n",
            "raiz\n"
          ],
          "name": "stdout"
        }
      ]
    },
    {
      "cell_type": "markdown",
      "metadata": {
        "id": "1P4tbcS9pwYz"
      },
      "source": [
        "## Binary Heap "
      ]
    },
    {
      "cell_type": "markdown",
      "metadata": {
        "id": "EqWzukePpypW"
      },
      "source": [
        "[Fuente del Codigo](https://runestone.academy/runestone/books/published/pythonds/Trees/BinaryHeapImplementation.html)"
      ]
    },
    {
      "cell_type": "markdown",
      "metadata": {
        "id": "bDp6LfWZv2Sk"
      },
      "source": [
        "**Tarea**\n",
        "Completa la descripcion de las funciones."
      ]
    },
    {
      "cell_type": "markdown",
      "metadata": {
        "id": "n3zqDtT3qLyf"
      },
      "source": [
        "**Funciones**:  \n",
        "+ Clase BinHeap(): Cra un objeto de tipo binary heap.\n",
        "+ insert(k): agrega el elemento k al heap\n",
        "+ minChild():\n",
        "+ delMin():\n",
        "+ buildHeap():\n"
      ]
    },
    {
      "cell_type": "code",
      "metadata": {
        "id": "8G0CpfYZp7hl"
      },
      "source": [
        "\n",
        "\n",
        "class BinHeap:\n",
        "    def __init__(self):\n",
        "        self.heapList = [0]\n",
        "        self.currentSize = 0\n",
        "\n",
        "\n",
        "    def percUp(self,i):\n",
        "        \n",
        "        while i // 2 > 0:\n",
        "            \n",
        "            if self.heapList[i] < self.heapList[i // 2]:\n",
        "                \n",
        "            \n",
        "                tmp = self.heapList[i // 2]\n",
        "                self.heapList[i // 2] = self.heapList[i]\n",
        "                self.heapList[i] = tmp\n",
        "            i = i // 2\n",
        "\n",
        "    def insert(self,k):\n",
        "        \n",
        "        self.heapList.append(k)\n",
        "        self.currentSize = self.currentSize + 1\n",
        "        self.percUp(self.currentSize)\n",
        "\n",
        "    def percDown(self,i):\n",
        "        \n",
        "        while (i * 2) <= self.currentSize:\n",
        "            \n",
        "            mc = self.minChild(i)\n",
        "            if self.heapList[i] > self.heapList[mc]:\n",
        "                \n",
        "                tmp = self.heapList[i]\n",
        "                self.heapList[i] = self.heapList[mc]\n",
        "                self.heapList[mc] = tmp\n",
        "            i = mc\n",
        "\n",
        "    def minChild(self,i):\n",
        "        \n",
        "        if i * 2 + 1 > self.currentSize:\n",
        "            \n",
        "            return i * 2\n",
        "        else:\n",
        "            \n",
        "            if self.heapList[i*2] < self.heapList[i*2+1]:\n",
        "                return i * 2\n",
        "            else:\n",
        "                return i * 2 + 1\n",
        "\n",
        "    def delMin(self):\n",
        "        retval = self.heapList[1]\n",
        "        self.heapList[1] = self.heapList[self.currentSize]\n",
        "        self.currentSize = self.currentSize - 1\n",
        "        self.heapList.pop()\n",
        "        self.percDown(1)\n",
        "        return retval\n",
        "\n",
        "    def buildHeap(self,alist):\n",
        "        i = len(alist) // 2\n",
        "        self.currentSize = len(alist)\n",
        "        self.heapList = [0] + alist[:]\n",
        "        while (i > 0):\n",
        "            self.percDown(i)\n",
        "            i = i - 1\n",
        "\n"
      ],
      "execution_count": 13,
      "outputs": []
    },
    {
      "cell_type": "markdown",
      "metadata": {
        "id": "q32QRuwX4NQv"
      },
      "source": [
        "## BST\n"
      ]
    },
    {
      "cell_type": "markdown",
      "metadata": {
        "id": "w63cqeBM4PhO"
      },
      "source": [
        "Geeks for Geeks [BST](https://www.geeksforgeeks.org/binary-search-tree-data-structure/#basic)"
      ]
    },
    {
      "cell_type": "code",
      "metadata": {
        "id": "uWhmxzxv_BEG"
      },
      "source": [
        "class BSTNode:\n",
        "    def __init__(self, val=None):\n",
        "        self.izq = None\n",
        "        self.der = None\n",
        "        self.raiz = val\n",
        "\n",
        "    def insert(self, val):\n",
        "        if not self.raiz:\n",
        "            self.raiz = val\n",
        "            return\n",
        "\n",
        "        if self.raiz == val:\n",
        "            return\n",
        "\n",
        "        if val < self.raiz:\n",
        "            if self.izq:\n",
        "                self.izq.insert(val)\n",
        "                return\n",
        "            self.izq = BSTNode(val)\n",
        "            return\n",
        "\n",
        "        if self.der:\n",
        "            self.der.insert(val)\n",
        "            return\n",
        "        self.der = BSTNode(val)\n",
        "\n",
        "    def get_min(self):\n",
        "        current = self\n",
        "        while current.izq is not None:\n",
        "            current = current.izq\n",
        "        return current.raiz\n",
        "\n",
        "    def get_max(self):\n",
        "        current = self\n",
        "        while current.der is not None:\n",
        "            current = current.der\n",
        "        return current.raiz\n",
        "\n",
        "    def delete(self, val):\n",
        "        if self == None:\n",
        "            return self\n",
        "        if val < self.raiz:\n",
        "            if self.izq:\n",
        "                self.izq = self.izq.delete(val)\n",
        "            return self\n",
        "        if val > self.raiz:\n",
        "            if self.der:\n",
        "                self.der = self.der.delete(val)\n",
        "            return self\n",
        "        if self.der == None:\n",
        "            return self.izq\n",
        "        if self.izq == None:\n",
        "            return self.der\n",
        "        min_larger_node = self.der\n",
        "        while min_larger_node.izq:\n",
        "            min_larger_node = min_larger_node.izq\n",
        "        self.raiz = min_larger_node.raiz\n",
        "        self.der = self.der.delete(min_larger_node.raiz)\n",
        "        return self\n",
        "\n",
        "    def exists(self, val):\n",
        "        if val == self.raiz:\n",
        "            return True\n",
        "\n",
        "        if val < self.raiz:\n",
        "            if self.izq == None:\n",
        "                return False\n",
        "            return self.izq.exists(val)\n",
        "\n",
        "        if self.der == None:\n",
        "            return False\n",
        "        return self.der.exists(val)\n",
        "\n",
        "    def preorder(self, vals):\n",
        "        if self.raiz is not None:\n",
        "            vals.append(self.raiz)\n",
        "        if self.izq is not None:\n",
        "            self.izq.preorder(vals)\n",
        "        if self.der is not None:\n",
        "            self.der.preorder(vals)\n",
        "        return vals\n",
        "\n",
        "    def inorder(self, vals):\n",
        "        if self.izq is not None:\n",
        "            self.izq.inorder(vals)\n",
        "        if self.raiz is not None:\n",
        "            vals.append(self.raiz)\n",
        "        if self.der is not None:\n",
        "            self.der.inorder(vals)\n",
        "        return vals\n",
        "\n",
        "    def postorder(self, vals):\n",
        "        if self.izq is not None:\n",
        "            self.izq.postorder(vals)\n",
        "        if self.der is not None:\n",
        "            self.der.postorder(vals)\n",
        "        if self.raiz is not None:\n",
        "            vals.append(self.raiz)\n",
        "        return vals"
      ],
      "execution_count": 21,
      "outputs": []
    },
    {
      "cell_type": "code",
      "metadata": {
        "id": "rrh9nQvZ_Exn"
      },
      "source": [
        "def main():\n",
        "    nums = [12, 6, 18, 19, 21, 11, 3, 5, 4, 24, 18]\n",
        "    bst = BSTNode()\n",
        "    for num in nums:\n",
        "        bst.insert(num)\n",
        "    print(\"preorder:\")\n",
        "    print(bst.preorder([]))\n",
        "    print(\"#\")\n",
        "\n",
        "    print(\"postorder:\")\n",
        "    print(bst.postorder([]))\n",
        "    print(\"#\")\n",
        "\n",
        "    print(\"inorder:\")\n",
        "    print(bst.inorder([]))\n",
        "    print(\"#\")\n",
        "\n",
        "    nums = [2, 6, 20]\n",
        "    print(\"eliminar \" + str(nums))\n",
        "    for num in nums:\n",
        "        bst.delete(num)\n",
        "    print(\"#\")\n",
        "\n",
        "    print(\"4 existe:\")\n",
        "    print(bst.exists(4))\n",
        "    print(\"2 existe:\")\n",
        "    print(bst.exists(2))\n",
        "    print(\"12 existe:\")\n",
        "    print(bst.exists(12))\n",
        "    print(\"18 existe:\")\n",
        "    print(bst.exists(18))"
      ],
      "execution_count": 22,
      "outputs": []
    },
    {
      "cell_type": "code",
      "metadata": {
        "colab": {
          "base_uri": "https://localhost:8080/"
        },
        "id": "QCBCow7Y_LUQ",
        "outputId": "3d033aeb-bba5-43d4-a9ab-a3e06ed415e1"
      },
      "source": [
        "main()"
      ],
      "execution_count": 23,
      "outputs": [
        {
          "output_type": "stream",
          "text": [
            "preorder:\n",
            "[12, 6, 3, 5, 4, 11, 18, 19, 21, 24]\n",
            "#\n",
            "postorder:\n",
            "[4, 5, 3, 11, 6, 24, 21, 19, 18, 12]\n",
            "#\n",
            "inorder:\n",
            "[3, 4, 5, 6, 11, 12, 18, 19, 21, 24]\n",
            "#\n",
            "eliminar [2, 6, 20]\n",
            "#\n",
            "4 existe:\n",
            "True\n",
            "2 existe:\n",
            "False\n",
            "12 existe:\n",
            "True\n",
            "18 existe:\n",
            "True\n"
          ],
          "name": "stdout"
        }
      ]
    },
    {
      "cell_type": "markdown",
      "metadata": {
        "id": "TIvWi0Oqr-sY"
      },
      "source": [
        "### Tarea"
      ]
    },
    {
      "cell_type": "markdown",
      "metadata": {
        "id": "C1fEbNT0sBK8"
      },
      "source": [
        "Identifica los casos base de las funciones: \n",
        "+ insert\n",
        "+ get_min\n",
        "+ get_max\n",
        "+ exists"
      ]
    },
    {
      "cell_type": "markdown",
      "metadata": {
        "id": "Yskag8antl8o"
      },
      "source": [
        "Estudia la funcion **delete**"
      ]
    }
  ]
}