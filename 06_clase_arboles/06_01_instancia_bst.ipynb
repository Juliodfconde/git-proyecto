{
  "nbformat": 4,
  "nbformat_minor": 0,
  "metadata": {
    "colab": {
      "name": "06_01_instancia_bst.ipynb",
      "provenance": [],
      "collapsed_sections": [],
      "authorship_tag": "ABX9TyM1Xc05RwrwREGRr4z1Yyvy",
      "include_colab_link": true
    },
    "kernelspec": {
      "name": "python3",
      "display_name": "Python 3"
    },
    "language_info": {
      "name": "python"
    }
  },
  "cells": [
    {
      "cell_type": "markdown",
      "metadata": {
        "id": "view-in-github",
        "colab_type": "text"
      },
      "source": [
        "<a href=\"https://colab.research.google.com/github/IEXE-Tec/analisis_de_algoritmos/blob/main/06_01_instancia_bst.ipynb\" target=\"_parent\"><img src=\"https://colab.research.google.com/assets/colab-badge.svg\" alt=\"Open In Colab\"/></a>"
      ]
    },
    {
      "cell_type": "markdown",
      "metadata": {
        "id": "m2bctmjEexXE"
      },
      "source": [
        "# Instancia de BST"
      ]
    },
    {
      "cell_type": "markdown",
      "metadata": {
        "id": "c1o35wWbe92R"
      },
      "source": [
        "El problema a resolver es detectar si cierto objeto a es un arbol binario o no. Basicamente, tendras un objeto arbol construido con la clase `TreeNode`, y deberas construir una funcion `validar_bst` que evalue o valide si ese objeto cimple con las propiedades de un bst."
      ]
    },
    {
      "cell_type": "markdown",
      "metadata": {
        "id": "Enhn2JH6fyyF"
      },
      "source": [
        "**Condiciones**:\n",
        "+ El arbol sera construido exclusivamente con la clase `TreeNode`\n",
        "+ Debes evaluar todas las caracteristicas que tiene un BST\n",
        "+ Los *valores* o *keys* que guarden los nodos seran exclusivamente enteros $\\{..., -2, -1, 0, 1, 2 ...\\}$ no habra strings u otro tipo de dato.\n",
        "+ Como primer input recibiras el nodo raiz del arbol.\n",
        "+ Valores unicos en cada nodo, y no se repiten."
      ]
    },
    {
      "cell_type": "markdown",
      "metadata": {
        "id": "anxG5tGEl16M"
      },
      "source": [
        "**Ejemplos**(usando la clase TreeNode):\n",
        "```\n",
        "deku = TreeNode(0)\n",
        "deku.izq = TreeNode(-1)\n",
        "deku.der = TreeNode(1)\n",
        "```\n",
        "`validar_bst(deku)` regresaria `True` pues el arbol cumple las condiciones de un BST\n",
        "\n",
        "\n",
        "---\n",
        "\n",
        "```\n",
        "deku = TreeNode(1)\n",
        "deku.izq = TreeNode(-2)\n",
        "deku.der = TreeNode(-1)\n",
        "```\n",
        "`validar_bst(deku)` regresaria `False` pues el arbol no cumple las condiciones de un BST (rompe la propiedad de mayor o menor que la raiz).\n"
      ]
    },
    {
      "cell_type": "markdown",
      "metadata": {
        "id": "ZHeHBtuvf1KP"
      },
      "source": [
        "## Problema"
      ]
    },
    {
      "cell_type": "markdown",
      "metadata": {
        "id": "CAlgxIFSlbec"
      },
      "source": [
        "**Hint**: Piensa en recorridos o traversals."
      ]
    },
    {
      "cell_type": "code",
      "metadata": {
        "id": "GcR3lAsEf2hv"
      },
      "source": [
        "class TreeNode(object):\n",
        "    def __init__(self, x):\n",
        "        # Valor a guardar\n",
        "        self.valor = x\n",
        "        # Nodo izquierdo\n",
        "        self.izq = None\n",
        "        # Nodo derecho\n",
        "        self.der = None"
      ],
      "execution_count": 5,
      "outputs": []
    },
    {
      "cell_type": "code",
      "metadata": {
        "id": "ufp-2kt2ktcD"
      },
      "source": [
        "def validar_bst(arbol):\n",
        "  # TODO: acaba la funcion\n",
        "  return True"
      ],
      "execution_count": 3,
      "outputs": []
    },
    {
      "cell_type": "markdown",
      "metadata": {
        "id": "3lB8sTR0pFeM"
      },
      "source": [
        "## Validacion"
      ]
    },
    {
      "cell_type": "code",
      "metadata": {
        "id": "wIA9DwLKpG2A"
      },
      "source": [
        "import unittest\n",
        "\n",
        "class PruebaBST(unittest.TestCase):\n",
        "\n",
        "  def prueba(self, fun_solucion):\n",
        "    # Arbol 1\n",
        "    deku_1 = TreeNode(0)\n",
        "    deku_1.izq = TreeNode(-1)\n",
        "    deku_1.der = TreeNode(1)\n",
        "\n",
        "    # Arbol 2     \n",
        "    deku_2 = TreeNode(0)\n",
        "    deku_2.izq = TreeNode(-1)\n",
        "    deku_2.der = TreeNode(-2)\n",
        "\n",
        "    # Arbol 3     \n",
        "    deku_3 = TreeNode(0)\n",
        "    deku_3.izq = TreeNode(-1)\n",
        "    deku_3.der = TreeNode(1)\n",
        "    deku_3.der.der = TreeNode(2)\n",
        "\n",
        "\n",
        "    # Arbol 4     \n",
        "    deku_4 = TreeNode(0)\n",
        "    deku_4.izq = TreeNode(-1)\n",
        "    deku_4.der = TreeNode(1)\n",
        "    deku_4.izq.izq = TreeNode(2)\n",
        "\n",
        "\n",
        "    dict_pruebas = {\n",
        "        1:(deku_1,True),\n",
        "        2: (deku_2, False),\n",
        "        3: (deku_3, True),\n",
        "        4: (deku_4, False),\n",
        "    }\n",
        "    sol = 'Error, tu funcion no regresa nada'\n",
        "\n",
        "    casos_errados = []\n",
        "    for p in dict_pruebas.values():\n",
        "      try:\n",
        "        sol = fun_solucion(arbol=p[0])\n",
        "        self.assertEqual(sol, p[1])\n",
        "      except AssertionError as e:\n",
        "        print(f'Fallo! arbol={p[0]},  output={sol}, esperada={p[1]}')\n",
        "        casos_errados.append(p)\n",
        "    return casos_errados\n"
      ],
      "execution_count": 11,
      "outputs": []
    },
    {
      "cell_type": "code",
      "metadata": {
        "colab": {
          "base_uri": "https://localhost:8080/"
        },
        "id": "NZ168iZbrE2R",
        "outputId": "c0137caf-3753-4c4d-e3db-9cb687905705"
      },
      "source": [
        "t = PruebaBST()\n",
        "t.prueba(validar_bst)"
      ],
      "execution_count": 12,
      "outputs": [
        {
          "output_type": "stream",
          "text": [
            "Fallo! arbol=<__main__.TreeNode object at 0x7f92b19aaed0>,  output=True, esperada=False\n",
            "Fallo! arbol=<__main__.TreeNode object at 0x7f92b19aad50>,  output=True, esperada=False\n"
          ],
          "name": "stdout"
        },
        {
          "output_type": "execute_result",
          "data": {
            "text/plain": [
              "[(<__main__.TreeNode at 0x7f92b19aaed0>, False),\n",
              " (<__main__.TreeNode at 0x7f92b19aad50>, False)]"
            ]
          },
          "metadata": {
            "tags": []
          },
          "execution_count": 12
        }
      ]
    }
  ]
}