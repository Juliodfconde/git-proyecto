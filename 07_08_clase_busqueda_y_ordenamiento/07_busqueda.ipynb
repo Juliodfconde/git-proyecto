{
  "nbformat": 4,
  "nbformat_minor": 0,
  "metadata": {
    "colab": {
      "name": "07_busqueda.ipynb",
      "provenance": [],
      "collapsed_sections": [],
      "authorship_tag": "ABX9TyNYnBdh0Ws6cJUFhvKs2emP",
      "include_colab_link": true
    },
    "kernelspec": {
      "name": "python3",
      "display_name": "Python 3"
    },
    "language_info": {
      "name": "python"
    }
  },
  "cells": [
    {
      "cell_type": "markdown",
      "metadata": {
        "id": "view-in-github",
        "colab_type": "text"
      },
      "source": [
        "<a href=\"https://colab.research.google.com/github/IEXE-Tec/analisis_de_algoritmos/blob/main/07_busqueda.ipynb\" target=\"_parent\"><img src=\"https://colab.research.google.com/assets/colab-badge.svg\" alt=\"Open In Colab\"/></a>"
      ]
    },
    {
      "cell_type": "markdown",
      "metadata": {
        "id": "HAjb-Dmcdi8V"
      },
      "source": [
        "# Busqueda "
      ]
    },
    {
      "cell_type": "markdown",
      "metadata": {
        "id": "E2nFwbAdeARU"
      },
      "source": [
        "## Busqueda Secuencial"
      ]
    },
    {
      "cell_type": "markdown",
      "metadata": {
        "id": "5suTOX3Z9D60"
      },
      "source": [
        "[Fuente de Codigo](https://runestone.academy/runestone/static/pythoned/SortSearch/LaBusquedaSecuencial.html)"
      ]
    },
    {
      "cell_type": "code",
      "metadata": {
        "id": "SNuNVCAn7K1U"
      },
      "source": [
        "def busquedaSecuencial(unaLista, item):\n",
        "\t    pos = 0\n",
        "\t    encontrado = False\n",
        "\t\n",
        "\t    while pos < len(unaLista) and not encontrado:\n",
        "\t        if unaLista[pos] == item:\n",
        "\t            encontrado = True\n",
        "\t        else:\n",
        "\t            pos = pos+1\n",
        "\t\n",
        "\t    return encontrado\n",
        "\t"
      ],
      "execution_count": 1,
      "outputs": []
    },
    {
      "cell_type": "code",
      "metadata": {
        "colab": {
          "base_uri": "https://localhost:8080/"
        },
        "id": "HSPwA4JF7YUS",
        "outputId": "57c5f38c-c4fb-4dfb-b805-7c4d83b1e5e0"
      },
      "source": [
        "listaPrueba = [1, 2, 32, 8, 17, 19, 42, 13, 0]\n",
        "print(busquedaSecuencial(listaPrueba, 3))\n",
        "print(busquedaSecuencial(listaPrueba, 13))"
      ],
      "execution_count": 2,
      "outputs": [
        {
          "output_type": "stream",
          "text": [
            "False\n",
            "True\n"
          ],
          "name": "stdout"
        }
      ]
    },
    {
      "cell_type": "markdown",
      "metadata": {
        "id": "2FXIsbDY7dU4"
      },
      "source": [
        "## Busqueda Secuencial Ordenada"
      ]
    },
    {
      "cell_type": "markdown",
      "metadata": {
        "id": "2O7Rfsj89HAL"
      },
      "source": [
        "[Fuente de Codigo](https://runestone.academy/runestone/static/pythoned/SortSearch/LaBusquedaSecuencial.html)"
      ]
    },
    {
      "cell_type": "code",
      "metadata": {
        "id": "NVsazqZXB1H9"
      },
      "source": [
        "def busqueda_seq_ordenada(lista, valor):\n",
        "  pos = 0\n",
        "\n",
        "  while (pos < len(lista)) & (lista[pos] <= valor):\n",
        "    if lista[pos] == valor:\n",
        "      return True\n",
        "    else:\n",
        "      if lista[pos] > valor:\n",
        "        return False\n",
        "      else:\n",
        "        pos += 1\n",
        "  return False"
      ],
      "execution_count": 27,
      "outputs": []
    },
    {
      "cell_type": "code",
      "metadata": {
        "colab": {
          "base_uri": "https://localhost:8080/"
        },
        "id": "g5SrQbXS7rcf",
        "outputId": "124740b0-846c-41c4-bc4e-2c5684505439"
      },
      "source": [
        "testlist = [0, 1, 2, 8, 13, 17, 19, 32, 42,]\n",
        "print(busqueda_seq_ordenada(testlist, 3))\n",
        "print(busqueda_seq_ordenada(testlist, 13))"
      ],
      "execution_count": 29,
      "outputs": [
        {
          "output_type": "stream",
          "text": [
            "False\n",
            "True\n"
          ],
          "name": "stdout"
        }
      ]
    },
    {
      "cell_type": "markdown",
      "metadata": {
        "id": "X0RbGDd7EVTs"
      },
      "source": [
        "## Tarea "
      ]
    },
    {
      "cell_type": "markdown",
      "metadata": {
        "id": "sdULty6nEXEJ"
      },
      "source": [
        "Estudia el codigo de las implementaciones"
      ]
    },
    {
      "cell_type": "markdown",
      "metadata": {
        "id": "wXon_DiBbwpW"
      },
      "source": [
        "## Busqueda Binaria Recursiva\n"
      ]
    },
    {
      "cell_type": "markdown",
      "metadata": {
        "id": "YpqyQTeidwzb"
      },
      "source": [
        "Codigo en la web"
      ]
    },
    {
      "cell_type": "code",
      "metadata": {
        "id": "dejmPrbabyzj"
      },
      "source": [
        "def rec_bin_search(arr,ele):\n",
        "    \n",
        "    ### Caso Base\n",
        "    if len(arr) == 0:\n",
        "        return False\n",
        "\n",
        "    mid = int(len(arr)/2) # Indice de enmedio\n",
        "    if arr[mid]==ele: # Si se encuentra el elemento\n",
        "        return True\n",
        "\n",
        "    ### Paso recursivo\n",
        "    else:        \n",
        "        # Busca en la mitad inferiror\n",
        "        if ele<arr[mid]:\n",
        "            return rec_bin_search(arr[:mid],ele)\n",
        "        # Busca en la mitad superior\n",
        "        else:\n",
        "            return rec_bin_search(arr[mid+1:],ele)"
      ],
      "execution_count": 6,
      "outputs": []
    },
    {
      "cell_type": "markdown",
      "metadata": {
        "id": "gmmX-ArggI4O"
      },
      "source": [
        "## Tarea"
      ]
    },
    {
      "cell_type": "markdown",
      "metadata": {
        "id": "yYLETx2xgJzS"
      },
      "source": [
        "Implementa la funcion `rec_bin_search` de manera secuencial."
      ]
    },
    {
      "cell_type": "code",
      "metadata": {
        "id": "mzMvAftngTQR"
      },
      "source": [
        "def sec_bin_search(arr,ele):\n",
        "  # TODO\n",
        "  \n",
        "  return"
      ],
      "execution_count": 7,
      "outputs": []
    }
  ]
}