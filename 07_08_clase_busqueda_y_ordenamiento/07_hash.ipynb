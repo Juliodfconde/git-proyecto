{
  "nbformat": 4,
  "nbformat_minor": 0,
  "metadata": {
    "colab": {
      "name": "07_hash.ipynb",
      "provenance": [],
      "collapsed_sections": [],
      "authorship_tag": "ABX9TyNbLBIUJGF6GqsQMKcCW069",
      "include_colab_link": true
    },
    "kernelspec": {
      "name": "python3",
      "display_name": "Python 3"
    },
    "language_info": {
      "name": "python"
    }
  },
  "cells": [
    {
      "cell_type": "markdown",
      "metadata": {
        "id": "view-in-github",
        "colab_type": "text"
      },
      "source": [
        "<a href=\"https://colab.research.google.com/github/IEXE-Tec/analisis_de_algoritmos/blob/main/07_hash.ipynb\" target=\"_parent\"><img src=\"https://colab.research.google.com/assets/colab-badge.svg\" alt=\"Open In Colab\"/></a>"
      ]
    },
    {
      "cell_type": "markdown",
      "metadata": {
        "id": "Ej8TCfXFl5_8"
      },
      "source": [
        "# Hash"
      ]
    },
    {
      "cell_type": "markdown",
      "metadata": {
        "id": "HkZsheJ9mLok"
      },
      "source": [
        "[Referencia](https://runestone.academy/runestone/static/pythoned/SortSearch/TransformacionDeClaves.html)"
      ]
    },
    {
      "cell_type": "code",
      "metadata": {
        "id": "QyzMgqdGl9Ng"
      },
      "source": [
        "class TablaHash:\n",
        "    def __init__(self):\n",
        "        self.tamano = 11\n",
        "        self.ranuras = [None] * self.tamano\n",
        "        self.datos = [None] * self.tamano\n",
        "  \n",
        "    def agregar(self,clave,dato):\n",
        "        valorHash = self.funcionHash(clave,len(self.ranuras))\n",
        "\n",
        "        if self.ranuras[valorHash] == None:\n",
        "            self.ranuras[valorHash] = clave\n",
        "            self.datos[valorHash] = dato\n",
        "        else:\n",
        "            if self.ranuras[valorHash] == clave:\n",
        "                self.datos[valorHash] = dato  #reemplazo\n",
        "            else:\n",
        "                proximaRanura = self.rehash(valorHash,len(self.ranuras))\n",
        "                while self.ranuras[proximaRanura] != None and \\\n",
        "                      self.ranuras[proximaRanura] != clave:\n",
        "\n",
        "                    proximaRanura = self.rehash(proximaRanura,len(self.ranuras))\n",
        "\n",
        "                if self.ranuras[proximaRanura] == None:\n",
        "                    self.ranuras[proximaRanura]=clave\n",
        "                    self.datos[proximaRanura]=dato\n",
        "                else:\n",
        "                    self.datos[proximaRanura] = dato #reemplazo\n",
        "\n",
        "    def funcionHash(self,clave,tamano):\n",
        "        return clave%tamano\n",
        "\n",
        "    def rehash(self,hashViejo,tamano):\n",
        "        return (hashViejo+1)%tamano\n",
        "\n",
        "    def obtener(self,clave):\n",
        "        ranuraInicio = self.funcionHash(clave,len(self.ranuras))\n",
        "        dato = None\n",
        "        parar = False\n",
        "        encontrado = False\n",
        "        posicion = ranuraInicio\n",
        "        while self.ranuras[posicion] != None and  \\\n",
        "                       not encontrado and not parar:\n",
        "            if self.ranuras[posicion] == clave:\n",
        "                encontrado = True\n",
        "                dato = self.datos[posicion]\n",
        "            else:\n",
        "                posicion=self.rehash(posicion,len(self.ranuras))\n",
        "                if posicion == ranuraInicio:\n",
        "                    parar = True\n",
        "        return dato\n",
        "\n",
        "    def __getitem__(self,clave):\n",
        "        return self.obtener(clave)\n",
        "\n",
        "    def __setitem__(self,clave,dato):\n",
        "        self.agregar(clave,dato)\n"
      ],
      "execution_count": 1,
      "outputs": []
    },
    {
      "cell_type": "code",
      "metadata": {
        "colab": {
          "base_uri": "https://localhost:8080/"
        },
        "id": "va9b5GDsl-vL",
        "outputId": "30d67131-6044-4ed4-f6b3-668482f8c4bf"
      },
      "source": [
        "H=TablaHash()\n",
        "H[54]=\"gato\"\n",
        "H[26]=\"perro\"\n",
        "H[93]=\"leon\"\n",
        "H[17]=\"tigre\"\n",
        "H[77]=\"pajaro\"\n",
        "H[31]=\"vaca\"\n",
        "H[44]=\"cabra\"\n",
        "H[55]=\"cerdo\"\n",
        "H[20]=\"pollo\"\n",
        "H.ranuras"
      ],
      "execution_count": 2,
      "outputs": [
        {
          "output_type": "execute_result",
          "data": {
            "text/plain": [
              "[77, 44, 55, 20, 26, 93, 17, None, None, 31, 54]"
            ]
          },
          "metadata": {
            "tags": []
          },
          "execution_count": 2
        }
      ]
    },
    {
      "cell_type": "code",
      "metadata": {
        "colab": {
          "base_uri": "https://localhost:8080/"
        },
        "id": "CBHsbohjmBXn",
        "outputId": "b946575c-06e4-4f26-afb6-385bcf533e93"
      },
      "source": [
        "H.datos"
      ],
      "execution_count": 3,
      "outputs": [
        {
          "output_type": "execute_result",
          "data": {
            "text/plain": [
              "['pajaro',\n",
              " 'cabra',\n",
              " 'cerdo',\n",
              " 'pollo',\n",
              " 'perro',\n",
              " 'leon',\n",
              " 'tigre',\n",
              " None,\n",
              " None,\n",
              " 'vaca',\n",
              " 'gato']"
            ]
          },
          "metadata": {
            "tags": []
          },
          "execution_count": 3
        }
      ]
    }
  ]
}