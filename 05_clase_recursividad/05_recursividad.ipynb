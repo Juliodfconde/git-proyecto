{
  "nbformat": 4,
  "nbformat_minor": 0,
  "metadata": {
    "colab": {
      "name": "05_recursividad.ipynb",
      "provenance": [],
      "collapsed_sections": [],
      "authorship_tag": "ABX9TyPBOshotZJ5nFSy74za/QTF",
      "include_colab_link": true
    },
    "kernelspec": {
      "name": "python3",
      "display_name": "Python 3"
    },
    "language_info": {
      "name": "python"
    }
  },
  "cells": [
    {
      "cell_type": "markdown",
      "metadata": {
        "id": "view-in-github",
        "colab_type": "text"
      },
      "source": [
        "<a href=\"https://colab.research.google.com/github/IEXE-Tec/analisis_de_algoritmos/blob/main/05_recursividad.ipynb\" target=\"_parent\"><img src=\"https://colab.research.google.com/assets/colab-badge.svg\" alt=\"Open In Colab\"/></a>"
      ]
    },
    {
      "cell_type": "markdown",
      "metadata": {
        "id": "iNt8FbzR_qsl"
      },
      "source": [
        "# Recursividad"
      ]
    },
    {
      "cell_type": "markdown",
      "metadata": {
        "id": "w75hGCmc_u9N"
      },
      "source": [
        "## Factorial"
      ]
    },
    {
      "cell_type": "markdown",
      "metadata": {
        "id": "68JOQUmUA74A"
      },
      "source": [
        "### Factorial Recursivo"
      ]
    },
    {
      "cell_type": "code",
      "metadata": {
        "id": "eiwhtL8lAqkx"
      },
      "source": [
        "def factorial(n):\n",
        "  # Caso Base\n",
        "  if n == 0:\n",
        "    return 1\n",
        "  else:\n",
        "    return n * factorial(n-1)"
      ],
      "execution_count": 5,
      "outputs": []
    },
    {
      "cell_type": "code",
      "metadata": {
        "colab": {
          "base_uri": "https://localhost:8080/"
        },
        "id": "HhRaYK1aB1My",
        "outputId": "bb4d723c-fb26-43d0-dd46-9ae4d1d3e10a"
      },
      "source": [
        "factorial(3)"
      ],
      "execution_count": 15,
      "outputs": [
        {
          "output_type": "execute_result",
          "data": {
            "text/plain": [
              "6"
            ]
          },
          "metadata": {
            "tags": []
          },
          "execution_count": 15
        }
      ]
    },
    {
      "cell_type": "markdown",
      "metadata": {
        "id": "NOOOONU9A96z"
      },
      "source": [
        "### Factorial Iterativo"
      ]
    },
    {
      "cell_type": "code",
      "metadata": {
        "id": "5PdQfQODA_mX"
      },
      "source": [
        "def factorial_it(n):\n",
        "\n",
        "  if n == 0:\n",
        "    return 1\n",
        "  else:\n",
        "    value = 1\n",
        "    for i in range(1,n+1):\n",
        "      value = value*i\n",
        "    return value"
      ],
      "execution_count": 10,
      "outputs": []
    },
    {
      "cell_type": "code",
      "metadata": {
        "colab": {
          "base_uri": "https://localhost:8080/"
        },
        "id": "by083pirBpQF",
        "outputId": "2ec14b30-1c3a-476a-e185-dfdd95c1109e"
      },
      "source": [
        "factorial_it(3)"
      ],
      "execution_count": 13,
      "outputs": [
        {
          "output_type": "execute_result",
          "data": {
            "text/plain": [
              "6"
            ]
          },
          "metadata": {
            "tags": []
          },
          "execution_count": 13
        }
      ]
    },
    {
      "cell_type": "markdown",
      "metadata": {
        "id": "Bjv0X-k0Iib3"
      },
      "source": [
        "## Ejercicios de Recursividad"
      ]
    },
    {
      "cell_type": "markdown",
      "metadata": {
        "id": "p-D9d61aI7Af"
      },
      "source": [
        "### Suma-n recursiva"
      ]
    },
    {
      "cell_type": "markdown",
      "metadata": {
        "id": "fvBdmdrcIl12"
      },
      "source": [
        "Encuentra una funcion recursiva que dado un valor `n` calcule la suma de los primeros n enteros y cero `0, ... , n`"
      ]
    },
    {
      "cell_type": "markdown",
      "metadata": {
        "id": "nNnpALQrJIOK"
      },
      "source": [
        "**Ejemplo**:\n",
        "+ Si la funcion recibe `n=0`, regresaria `0`\n",
        "+ `n=1` -> 0 + 1 = `1`\n",
        "+ `n=4` -> 0 + 1 + 2 + 3 + 4 -> `10`"
      ]
    },
    {
      "cell_type": "markdown",
      "metadata": {
        "id": "TeMbzeYkJD_Z"
      },
      "source": [
        "#### **Version iterativa**"
      ]
    },
    {
      "cell_type": "code",
      "metadata": {
        "id": "zsK1RPofI6Lv"
      },
      "source": [
        "def suma_iterativa(n=0):\n",
        "  suma = 0\n",
        "  for i in range(0, n+1):\n",
        "    suma += i\n",
        "\n",
        "  return suma"
      ],
      "execution_count": 17,
      "outputs": []
    },
    {
      "cell_type": "code",
      "metadata": {
        "colab": {
          "base_uri": "https://localhost:8080/"
        },
        "id": "8xUlnvXhJrpJ",
        "outputId": "17a53de8-c05e-4f05-b8b9-dc1c7f468933"
      },
      "source": [
        "suma_iterativa(4)"
      ],
      "execution_count": 18,
      "outputs": [
        {
          "output_type": "execute_result",
          "data": {
            "text/plain": [
              "10"
            ]
          },
          "metadata": {
            "tags": []
          },
          "execution_count": 18
        }
      ]
    },
    {
      "cell_type": "markdown",
      "metadata": {
        "id": "ivpMhhSkJzDn"
      },
      "source": [
        "#### **Version recursiva**"
      ]
    },
    {
      "cell_type": "markdown",
      "metadata": {
        "id": "3n9EJXXeJ1Sk"
      },
      "source": [
        "Primero pensemos en el caso base, basandonos en el caso del calculo factorial:\n",
        "+ En que momento podemos regresar una solucion que no dependa de de otros valores o funciones?  \n",
        "Cuando pedimos la suma de `n=0`. En este caso la respuesta siempre sera `0`, y no depende de mas funciones.\n",
        "+ Ahora, que pasaria si nuestra funcion solo aceptara valores enteros diferentes de `0`?  \n",
        "En este caso el caso base seria `n=1`, pues la respuesta seria `1`."
      ]
    },
    {
      "cell_type": "code",
      "metadata": {
        "id": "YfZ-fvVPOKHp"
      },
      "source": [
        "def suma_rec(n=0):\n",
        "  # Caso base\n",
        "  if n == 0:\n",
        "    return 0\n",
        "  # Falta el paso recursivo"
      ],
      "execution_count": null,
      "outputs": []
    },
    {
      "cell_type": "markdown",
      "metadata": {
        "id": "VTTi9_EDOp6D"
      },
      "source": [
        "+ Cual seria el paso recursivo?  \n",
        "Pensemos que sabemos, y que es no recursivo sin importar la `n`.  \n",
        "Bueno, pues dado que debemos sumar de `0,1,...,i,...,n`, en cada paso `i` debemos sumar el valor `i` que si conocemos, y todos los valores menores que `i`.  \n",
        "En otras palabras, en el paso `i` debemos sumar `i` mas la suma acumulada de `i-1` a `0`.  \n",
        "Esto nos sugiere que el paso inductivo es:  \n",
        "` i + suma_rec(i-1)`. En el caso del primer valor `n` seria `n + suma_rec(n-1)`"
      ]
    },
    {
      "cell_type": "code",
      "metadata": {
        "id": "p3G46Jj-N2V5"
      },
      "source": [
        "def suma_rec(n=0):\n",
        "  # Caso Base\n",
        "  if n == 0:\n",
        "    return 0\n",
        "  # Paso recursivo\n",
        "  else:\n",
        "    return n + suma_rec(n-1)"
      ],
      "execution_count": 19,
      "outputs": []
    },
    {
      "cell_type": "code",
      "metadata": {
        "colab": {
          "base_uri": "https://localhost:8080/"
        },
        "id": "idQVCzrfOEiy",
        "outputId": "d32393c4-9f3c-4fb7-ea2c-c8d99b0ed0d4"
      },
      "source": [
        "suma_rec(4)"
      ],
      "execution_count": 21,
      "outputs": [
        {
          "output_type": "execute_result",
          "data": {
            "text/plain": [
              "10"
            ]
          },
          "metadata": {
            "tags": []
          },
          "execution_count": 21
        }
      ]
    },
    {
      "cell_type": "markdown",
      "metadata": {
        "id": "SNC-vo9ZewXt"
      },
      "source": [
        "#### Tarea"
      ]
    },
    {
      "cell_type": "markdown",
      "metadata": {
        "id": "D4DlJXD1exeq"
      },
      "source": [
        "De tarea piensa que pasaria con nuestra respuesta iterativa, y recursiva si resibieran una numero negativo `n<0`."
      ]
    },
    {
      "cell_type": "markdown",
      "metadata": {
        "id": "_z-5sGrNYSKX"
      },
      "source": [
        "### Suma de digitos"
      ]
    },
    {
      "cell_type": "markdown",
      "metadata": {
        "id": "3ZftfsoeYTv3"
      },
      "source": [
        "Dado un numero entero positivo (que tambien podemos ver como un string), econtrar la suma de todos sus digitos. "
      ]
    },
    {
      "cell_type": "markdown",
      "metadata": {
        "id": "0sZiik3mZRHJ"
      },
      "source": [
        "**Ejemplos**\n",
        "+ Si recibimos `0` regresamos `0`\n",
        "+ Si recibimos `10`, regresamos `1`\n",
        "+ Si recibimos `123` calculamos `1+2+3`, por lo que regresamos `6`.\n",
        "+ Si recibimos `345` o `354` o `435` o `453` o `543` o `534`, debemos calcular `3+5+4` o alguna permutacion de esta suma, por lo que regresamos `12`."
      ]
    },
    {
      "cell_type": "markdown",
      "metadata": {
        "id": "LR6lu8aSYpMB"
      },
      "source": [
        "#### **Solucion Secuencial** "
      ]
    },
    {
      "cell_type": "code",
      "metadata": {
        "id": "-xDPiQBmYuYG"
      },
      "source": [
        "def suma_dig_sec(num=0):\n",
        "  num = str(num) \n",
        "  acc = 0\n",
        "  for i in num:\n",
        "    acc += int(i)\n",
        "\n",
        "  return acc"
      ],
      "execution_count": 34,
      "outputs": []
    },
    {
      "cell_type": "code",
      "metadata": {
        "colab": {
          "base_uri": "https://localhost:8080/"
        },
        "id": "vGHiG6qGY5WV",
        "outputId": "42332cfa-661e-4dbc-f051-5e504cecd8c6"
      },
      "source": [
        "suma_dig_sec(num=123)"
      ],
      "execution_count": 36,
      "outputs": [
        {
          "output_type": "execute_result",
          "data": {
            "text/plain": [
              "6"
            ]
          },
          "metadata": {
            "tags": []
          },
          "execution_count": 36
        }
      ]
    },
    {
      "cell_type": "markdown",
      "metadata": {
        "id": "rD-E9Lt3aJz8"
      },
      "source": [
        "#### **Solucion Recursiva**"
      ]
    },
    {
      "cell_type": "code",
      "metadata": {
        "id": "mQs6CFemaSUK"
      },
      "source": [
        "def suma_dig_rec(num=0):\n",
        "    num = str(num)\n",
        "    # Caso Base\n",
        "    if len(str(num)) == 1:\n",
        "        return int(num)\n",
        "    \n",
        "    # Paso Recursivo\n",
        "    else:\n",
        "        return int(num[0]) + suma_dig_rec(num[1:]) \n",
        "        #return int(num[-1]) + suma_dig_rec(num[:-1])"
      ],
      "execution_count": 45,
      "outputs": []
    },
    {
      "cell_type": "code",
      "metadata": {
        "colab": {
          "base_uri": "https://localhost:8080/"
        },
        "id": "2uDIDxZOb8us",
        "outputId": "9d79c29d-daf7-437f-b56f-a8ea54d62ba7"
      },
      "source": [
        "suma_dig_rec(num=435)"
      ],
      "execution_count": 48,
      "outputs": [
        {
          "output_type": "execute_result",
          "data": {
            "text/plain": [
              "12"
            ]
          },
          "metadata": {
            "tags": []
          },
          "execution_count": 48
        }
      ]
    },
    {
      "cell_type": "markdown",
      "metadata": {
        "id": "9w0TkPVKsXfZ"
      },
      "source": [
        "### Tarea"
      ]
    },
    {
      "cell_type": "markdown",
      "metadata": {
        "id": "UWPd7X1GsYi9"
      },
      "source": [
        "Si estuvieramos usando listas ligadas simples, sin referencia directa a la cola (como en la clase anterior).  \n",
        "+ Como cambiaria el numero de operaciones en cada paso de nuestra funcion si sumaramos el valor que se encuentra en la cola, en vez del que se encuentra a la cabeza?\n",
        "+ Puedes visualizar esto como un cambio en el return y slicing de los arrays en la siguiente imagen:"
      ]
    },
    {
      "cell_type": "markdown",
      "metadata": {
        "id": "XGfKWVCztJVb"
      },
      "source": [
        "![image.png](data:image/png;base64,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)"
      ]
    },
    {
      "cell_type": "markdown",
      "metadata": {
        "id": "-OFhpm48wApr"
      },
      "source": [
        "## Factorial Memoizado"
      ]
    },
    {
      "cell_type": "markdown",
      "metadata": {
        "id": "PPgwKVQUwDJg"
      },
      "source": [
        "Codigo original: https://nbviewer.jupyter.org/github/fferegrino/nbstuff/blob/master/Memoization.ipynb"
      ]
    },
    {
      "cell_type": "code",
      "metadata": {
        "id": "TA2B7HUIwGR6"
      },
      "source": [
        "\n",
        "\n",
        "def fib(n):\n",
        "    if n == 0 or n == 1:\n",
        "        return 1\n",
        "    return fib(n-1) + fib(n-2)\n",
        "\n",
        "\n",
        "\n",
        "def fib_mem(n):\n",
        "    # Casos base\n",
        "    storage = dict([\n",
        "      (0, 1), \n",
        "      (1, 1)\n",
        "    ])\n",
        "\n",
        "    if n in storage:\n",
        "        return storage[n]\n",
        "    storage[n] = fib(n-1) + fib(n-2)\n",
        "    return storage[n]"
      ],
      "execution_count": 56,
      "outputs": []
    },
    {
      "cell_type": "code",
      "metadata": {
        "colab": {
          "base_uri": "https://localhost:8080/"
        },
        "id": "hczbEyeVwSqW",
        "outputId": "26ed89dc-b0a6-4e4a-c81f-3d3acc4fc2c9"
      },
      "source": [
        "%%time\n",
        "result = fib(40)\n",
        "print(result)"
      ],
      "execution_count": 60,
      "outputs": [
        {
          "output_type": "stream",
          "text": [
            "165580141\n",
            "CPU times: user 46.2 s, sys: 108 ms, total: 46.3 s\n",
            "Wall time: 46.5 s\n"
          ],
          "name": "stdout"
        }
      ]
    },
    {
      "cell_type": "code",
      "metadata": {
        "colab": {
          "base_uri": "https://localhost:8080/"
        },
        "id": "l3Yhuc2XwWvc",
        "outputId": "3880a9d9-ecf4-470a-b24d-ad7a2794fa18"
      },
      "source": [
        "# Memoizado\n",
        "%%time\n",
        "result = fib_mem(40)\n",
        "print(result)"
      ],
      "execution_count": 59,
      "outputs": [
        {
          "output_type": "stream",
          "text": [
            "165580141\n",
            "CPU times: user 45.8 s, sys: 75.8 ms, total: 45.9 s\n",
            "Wall time: 46 s\n"
          ],
          "name": "stdout"
        }
      ]
    }
  ]
}