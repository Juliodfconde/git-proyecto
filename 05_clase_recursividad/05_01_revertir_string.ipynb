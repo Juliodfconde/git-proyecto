{
  "nbformat": 4,
  "nbformat_minor": 0,
  "metadata": {
    "colab": {
      "name": "05_revertir_string.ipynb",
      "provenance": [],
      "collapsed_sections": [],
      "authorship_tag": "ABX9TyOsDPWsuoE1K+OEx9Q/V17b",
      "include_colab_link": true
    },
    "kernelspec": {
      "name": "python3",
      "display_name": "Python 3"
    },
    "language_info": {
      "name": "python"
    }
  },
  "cells": [
    {
      "cell_type": "markdown",
      "metadata": {
        "id": "view-in-github",
        "colab_type": "text"
      },
      "source": [
        "<a href=\"https://colab.research.google.com/github/IEXE-Tec/analisis_de_algoritmos/blob/main/05_revertir_string.ipynb\" target=\"_parent\"><img src=\"https://colab.research.google.com/assets/colab-badge.svg\" alt=\"Open In Colab\"/></a>"
      ]
    },
    {
      "cell_type": "markdown",
      "metadata": {
        "id": "sBYEBvwGZL-b"
      },
      "source": [
        "# Revertir String"
      ]
    },
    {
      "cell_type": "markdown",
      "metadata": {
        "id": "SWwOvWzaZffW"
      },
      "source": [
        "El objetivo es revertir una string usando una funcion recursiva. No se puede usar el slice para revertir."
      ]
    },
    {
      "cell_type": "markdown",
      "metadata": {
        "id": "5LVMj3oKZ2cn"
      },
      "source": [
        "**Condiciones**:\n",
        "+ Recibiras un string con cualquier tipo de caracter Utf-8. Y debes revertirla como tal, com todos sus caracteres incluyendo espacios.\n",
        "+ No puedes usar slicing del tipo `[-1]` para revertir el string, tienes que construir una funcion **recursiva**."
      ]
    },
    {
      "cell_type": "markdown",
      "metadata": {
        "id": "zy3A6IE3aNEH"
      },
      "source": [
        "**Ejemplos**:\n",
        "+ `hello` regresa `olleh`\n",
        "+ `hello world` regres `dlrow olleh`"
      ]
    },
    {
      "cell_type": "markdown",
      "metadata": {
        "id": "z4DLkFGVZsEf"
      },
      "source": [
        "## Tu Algoritmo"
      ]
    },
    {
      "cell_type": "code",
      "metadata": {
        "id": "0KAm4LErZuJn"
      },
      "source": [
        "def revertir(string=str()):\n",
        "\n",
        "  return string"
      ],
      "execution_count": 7,
      "outputs": []
    },
    {
      "cell_type": "code",
      "metadata": {
        "colab": {
          "base_uri": "https://localhost:8080/",
          "height": 41
        },
        "id": "dfRE7EOsZzyV",
        "outputId": "1344e5f6-459a-4c8a-ac8b-122f2cffafae"
      },
      "source": [
        "revertir()"
      ],
      "execution_count": 8,
      "outputs": [
        {
          "output_type": "execute_result",
          "data": {
            "application/vnd.google.colaboratory.intrinsic+json": {
              "type": "string"
            },
            "text/plain": [
              "''"
            ]
          },
          "metadata": {
            "tags": []
          },
          "execution_count": 8
        }
      ]
    },
    {
      "cell_type": "markdown",
      "metadata": {
        "id": "BhshhRzoaeQX"
      },
      "source": [
        "## Pruebas"
      ]
    },
    {
      "cell_type": "code",
      "metadata": {
        "id": "mbcdkSttaf_e"
      },
      "source": [
        "import unittest\n",
        "\n",
        "class PruebaRevertir(unittest.TestCase):\n",
        "\n",
        "  def prueba(self, fun_solucion):\n",
        "    dict_pruebas = {\n",
        "        1:('',''),\n",
        "        2: ('hello', 'olleh'),\n",
        "        3: ('hello world', 'dlrow olleh'),\n",
        "\n",
        "    }\n",
        "    sol = 'Error, tu funcion no regresa nada'\n",
        "\n",
        "    for p in dict_pruebas.values():\n",
        "      try:\n",
        "        sol = fun_solucion(string=p[0])\n",
        "        self.assertEqual(sol, p[1])\n",
        "      except AssertionError as e:\n",
        "        print(f'Fallo! cadena = {p[0]},  output = {sol}, esperada = {p[1]}')\n"
      ],
      "execution_count": 11,
      "outputs": []
    },
    {
      "cell_type": "code",
      "metadata": {
        "colab": {
          "base_uri": "https://localhost:8080/"
        },
        "id": "Uu3sX-Fhaw67",
        "outputId": "b7f93292-dd7a-485d-cb80-486745e9cc6a"
      },
      "source": [
        "t = PruebaRevertir()\n",
        "t.prueba(revertir)"
      ],
      "execution_count": 10,
      "outputs": [
        {
          "output_type": "stream",
          "text": [
            "Fallo! cadena=hello,  output=hello, esperada=olleh\n",
            "Fallo! cadena=hello world,  output=hello world, esperada=dlrow olleh\n"
          ],
          "name": "stdout"
        }
      ]
    }
  ]
}