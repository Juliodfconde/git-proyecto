{
  "nbformat": 4,
  "nbformat_minor": 0,
  "metadata": {
    "colab": {
      "name": "05_permutacion_strings.ipynb",
      "provenance": [],
      "collapsed_sections": [],
      "authorship_tag": "ABX9TyNMFz5JSXNtSxMGRnG5D9k0",
      "include_colab_link": true
    },
    "kernelspec": {
      "name": "python3",
      "display_name": "Python 3"
    },
    "language_info": {
      "name": "python"
    }
  },
  "cells": [
    {
      "cell_type": "markdown",
      "metadata": {
        "id": "view-in-github",
        "colab_type": "text"
      },
      "source": [
        "<a href=\"https://colab.research.google.com/github/IEXE-Tec/analisis_de_algoritmos/blob/main/05_permutacion_strings.ipynb\" target=\"_parent\"><img src=\"https://colab.research.google.com/assets/colab-badge.svg\" alt=\"Open In Colab\"/></a>"
      ]
    },
    {
      "cell_type": "markdown",
      "metadata": {
        "id": "ZtsIWkdNbK3k"
      },
      "source": [
        "# Permutacion de Strings"
      ]
    },
    {
      "cell_type": "markdown",
      "metadata": {
        "id": "we4DBpgWbuZq"
      },
      "source": [
        "Dada un string Utf-8 `string`, regresar todas las permutaciones posibles en una lista. cada elemento debera ser una permutacion diferente."
      ]
    },
    {
      "cell_type": "markdown",
      "metadata": {
        "id": "zPOhfrFwb8Ay"
      },
      "source": [
        "**Condociones**\n",
        "+ No importa el orden en que regreses las permutaciones mientras sean todas las posibles y esten en una sola lista.\n",
        "+ Usa recursividad, no puedes usar funciones preexistentes de permutacion.\n",
        "+ Tienes que utilizar todos los caracteres."
      ]
    },
    {
      "cell_type": "markdown",
      "metadata": {
        "id": "mMOdszpOcKXD"
      },
      "source": [
        "**Ejemplos**\n",
        "+ `'ab'` regresa `['ba', 'ab']`\n",
        "+ `'xyz'` regresa `['xyz', 'xzy', 'yxz', 'yzx', 'zxy', 'zyx']`\n",
        "+ `''` regresa `['']`\n",
        "+ `'a'` regresa `['a']`\n",
        "+ `'aa'` regresa `['aa', 'aa']`\n",
        "+ `'ll'` regresa `['ll', 'll']`\n"
      ]
    },
    {
      "cell_type": "markdown",
      "metadata": {
        "id": "i_ObYayXdL-E"
      },
      "source": [
        "## Tu algoritmo"
      ]
    },
    {
      "cell_type": "markdown",
      "metadata": {
        "id": "cFzEmm4cdp1E"
      },
      "source": [
        "Esta vez de damos un esqueleto con el paso base, solo tienes que llenar el paso recursivo. Tambien puedes crear tu funcion en su totalidad, solo asegurate manetener el nombre."
      ]
    },
    {
      "cell_type": "code",
      "metadata": {
        "id": "4RIm6n61dNHl"
      },
      "source": [
        "def str_perm(string=''):\n",
        "  # Pre\n",
        "  permutaciones = []\n",
        "  # Caso Base\n",
        "  if len(string) ==1:\n",
        "    permutaciones = [string]\n",
        "  else:\n",
        "    # Encunetra el paso recursivo\n",
        "    pass\n",
        "  return permutaciones"
      ],
      "execution_count": 8,
      "outputs": []
    },
    {
      "cell_type": "markdown",
      "metadata": {
        "id": "I7cU4UjIeAcf"
      },
      "source": [
        "## Prueba"
      ]
    },
    {
      "cell_type": "code",
      "metadata": {
        "colab": {
          "base_uri": "https://localhost:8080/"
        },
        "id": "EycxC3pPelly",
        "outputId": "d2956fb5-7086-4a64-8913-b8401b5fca54"
      },
      "source": [
        "sorted(['b', 'a'])"
      ],
      "execution_count": 1,
      "outputs": [
        {
          "output_type": "execute_result",
          "data": {
            "text/plain": [
              "['a', 'b']"
            ]
          },
          "metadata": {
            "tags": []
          },
          "execution_count": 1
        }
      ]
    },
    {
      "cell_type": "code",
      "metadata": {
        "id": "pLuzl-W2eBrc"
      },
      "source": [
        "import unittest\n",
        "\n",
        "class PruebaPerm(unittest.TestCase):\n",
        "\n",
        "  def prueba(self, fun_solucion):\n",
        "    dict_pruebas = {\n",
        "        1:('',['']),\n",
        "        2: ('a', sorted(['a'])),\n",
        "        3: ('aa', sorted(['aa', 'aa'])),\n",
        "        4: ('xyz', sorted(['xyz', 'xzy', 'yxz', 'yzx', 'zxy', 'zyx'])),\n",
        "    }\n",
        "    sol = 'Error, tu funcion no regresa nada'\n",
        "\n",
        "    for p in dict_pruebas.values():\n",
        "      try:\n",
        "        sol = sorted(fun_solucion(string=p[0]))\n",
        "        self.assertEqual(sol, p[1])\n",
        "      except AssertionError as e:\n",
        "        print(f'Fallo! cadena={p[0]},  output={sol}, esperada={p[1]}')\n"
      ],
      "execution_count": 10,
      "outputs": []
    },
    {
      "cell_type": "code",
      "metadata": {
        "colab": {
          "base_uri": "https://localhost:8080/"
        },
        "id": "yfInduFKe6Gj",
        "outputId": "83b7adc6-0585-40d0-a9e1-86836c212eaf"
      },
      "source": [
        "t = PruebaPerm()\n",
        "t.prueba(str_perm)"
      ],
      "execution_count": 11,
      "outputs": [
        {
          "output_type": "stream",
          "text": [
            "Fallo! cadena=,  output=[], esperada=['']\n",
            "Fallo! cadena=aa,  output=[], esperada=['aa', 'aa']\n",
            "Fallo! cadena=xyz,  output=[], esperada=['xyz', 'xzy', 'yxz', 'yzx', 'zxy', 'zyx']\n"
          ],
          "name": "stdout"
        }
      ]
    }
  ]
}